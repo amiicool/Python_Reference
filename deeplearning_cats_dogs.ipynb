{
  "nbformat": 4,
  "nbformat_minor": 0,
  "metadata": {
    "colab": {
      "name": "deeplearning_cats_dogs.ipynb",
      "provenance": [],
      "collapsed_sections": []
    },
    "kernelspec": {
      "name": "python3",
      "display_name": "Python 3"
    },
    "language_info": {
      "name": "python"
    },
    "accelerator": "GPU"
  },
  "cells": [
    {
      "cell_type": "code",
      "metadata": {
        "id": "6icbWZ7cg6Md"
      },
      "source": [
        "from keras import layers\n",
        "from keras import models\n",
        "from keras import optimizers\n",
        "import matplotlib.pyplot as plt\n",
        "import os, shutil\n",
        "import numpy as np\n",
        "from keras.preprocessing.image import ImageDataGenerator\n",
        "from keras import models\n",
        "from keras import layers\n",
        "from keras import optimizers"
      ],
      "execution_count": 2,
      "outputs": []
    },
    {
      "cell_type": "code",
      "metadata": {
        "id": "jFJlFB-BhBaG"
      },
      "source": [
        "base_dir = 'drive/MyDrive/cats_and_dogs_small'\n",
        "train_dir = os.path.join(base_dir, 'train')\n",
        "validation_dir = os.path.join(base_dir, 'validation')\n",
        "test_dir = os.path.join(base_dir, 'test')\n",
        "\n",
        "train_cats_dir = os.path.join(train_dir, 'cats')\n",
        "train_dogs_dir = os.path.join(train_dir, 'dogs')\n",
        "test_cats_dir = os.path.join(test_dir, 'cats')\n",
        "test_dogs_dir = os.path.join(test_dir, 'dogs')\n",
        "validation_cats_dir = os.path.join(validation_dir, 'cats')\n",
        "validation_dogs_dir = os.path.join(validation_dir, 'dogs')"
      ],
      "execution_count": 3,
      "outputs": []
    },
    {
      "cell_type": "code",
      "metadata": {
        "colab": {
          "base_uri": "https://localhost:8080/"
        },
        "id": "9QVWiwLPlJ5e",
        "outputId": "39c9196e-f290-44d7-eff3-145c814293d2"
      },
      "source": [
        "print('total training cat images:', len(os.listdir(train_cats_dir)))\n",
        "print('total training dog images:', len(os.listdir(train_dogs_dir)))\n",
        "print('total test cat images:', len(os.listdir(test_cats_dir)))\n",
        "print('total test dog images:', len(os.listdir(test_dogs_dir)))\n",
        "print('total validation cat images:', len(os.listdir(validation_cats_dir)))\n",
        "print('total validation dog images:', len(os.listdir(validation_dogs_dir)))\n"
      ],
      "execution_count": 4,
      "outputs": [
        {
          "output_type": "stream",
          "text": [
            "total training cat images: 1000\n",
            "total training dog images: 1000\n",
            "total test cat images: 500\n",
            "total test dog images: 500\n",
            "total validation cat images: 500\n",
            "total validation dog images: 500\n"
          ],
          "name": "stdout"
        }
      ]
    },
    {
      "cell_type": "markdown",
      "metadata": {
        "id": "l2oUBUfXmZQE"
      },
      "source": [
        "## Using a Pretrained Convnet"
      ]
    },
    {
      "cell_type": "code",
      "metadata": {
        "id": "TlY-Ze1PlWGd"
      },
      "source": [
        "from keras.applications import VGG16"
      ],
      "execution_count": 5,
      "outputs": []
    },
    {
      "cell_type": "code",
      "metadata": {
        "colab": {
          "base_uri": "https://localhost:8080/"
        },
        "id": "r4ZAv__Hmauy",
        "outputId": "97cd6a89-e687-444f-e68c-ecf93d324aa3"
      },
      "source": [
        "conv_base = VGG16(weights='imagenet', include_top=False, input_shape=(150, 150, 3))"
      ],
      "execution_count": 6,
      "outputs": [
        {
          "output_type": "stream",
          "text": [
            "Downloading data from https://storage.googleapis.com/tensorflow/keras-applications/vgg16/vgg16_weights_tf_dim_ordering_tf_kernels_notop.h5\n",
            "58892288/58889256 [==============================] - 1s 0us/step\n"
          ],
          "name": "stdout"
        }
      ]
    },
    {
      "cell_type": "code",
      "metadata": {
        "colab": {
          "base_uri": "https://localhost:8080/"
        },
        "id": "tFLmcb0mmmlA",
        "outputId": "6a7f35e7-3c88-4bce-ed01-7aac16ff172d"
      },
      "source": [
        "conv_base.summary()"
      ],
      "execution_count": 7,
      "outputs": [
        {
          "output_type": "stream",
          "text": [
            "Model: \"vgg16\"\n",
            "_________________________________________________________________\n",
            "Layer (type)                 Output Shape              Param #   \n",
            "=================================================================\n",
            "input_1 (InputLayer)         [(None, 150, 150, 3)]     0         \n",
            "_________________________________________________________________\n",
            "block1_conv1 (Conv2D)        (None, 150, 150, 64)      1792      \n",
            "_________________________________________________________________\n",
            "block1_conv2 (Conv2D)        (None, 150, 150, 64)      36928     \n",
            "_________________________________________________________________\n",
            "block1_pool (MaxPooling2D)   (None, 75, 75, 64)        0         \n",
            "_________________________________________________________________\n",
            "block2_conv1 (Conv2D)        (None, 75, 75, 128)       73856     \n",
            "_________________________________________________________________\n",
            "block2_conv2 (Conv2D)        (None, 75, 75, 128)       147584    \n",
            "_________________________________________________________________\n",
            "block2_pool (MaxPooling2D)   (None, 37, 37, 128)       0         \n",
            "_________________________________________________________________\n",
            "block3_conv1 (Conv2D)        (None, 37, 37, 256)       295168    \n",
            "_________________________________________________________________\n",
            "block3_conv2 (Conv2D)        (None, 37, 37, 256)       590080    \n",
            "_________________________________________________________________\n",
            "block3_conv3 (Conv2D)        (None, 37, 37, 256)       590080    \n",
            "_________________________________________________________________\n",
            "block3_pool (MaxPooling2D)   (None, 18, 18, 256)       0         \n",
            "_________________________________________________________________\n",
            "block4_conv1 (Conv2D)        (None, 18, 18, 512)       1180160   \n",
            "_________________________________________________________________\n",
            "block4_conv2 (Conv2D)        (None, 18, 18, 512)       2359808   \n",
            "_________________________________________________________________\n",
            "block4_conv3 (Conv2D)        (None, 18, 18, 512)       2359808   \n",
            "_________________________________________________________________\n",
            "block4_pool (MaxPooling2D)   (None, 9, 9, 512)         0         \n",
            "_________________________________________________________________\n",
            "block5_conv1 (Conv2D)        (None, 9, 9, 512)         2359808   \n",
            "_________________________________________________________________\n",
            "block5_conv2 (Conv2D)        (None, 9, 9, 512)         2359808   \n",
            "_________________________________________________________________\n",
            "block5_conv3 (Conv2D)        (None, 9, 9, 512)         2359808   \n",
            "_________________________________________________________________\n",
            "block5_pool (MaxPooling2D)   (None, 4, 4, 512)         0         \n",
            "=================================================================\n",
            "Total params: 14,714,688\n",
            "Trainable params: 14,714,688\n",
            "Non-trainable params: 0\n",
            "_________________________________________________________________\n"
          ],
          "name": "stdout"
        }
      ]
    },
    {
      "cell_type": "markdown",
      "metadata": {
        "id": "hpPlIMfUmt8o"
      },
      "source": [
        "#### a) Fast Feature Extraction WithOUT Data Augmentation"
      ]
    },
    {
      "cell_type": "code",
      "metadata": {
        "id": "Bo53TjB_mo2Z"
      },
      "source": [
        "datagen = ImageDataGenerator(rescale=1./255)\n",
        "batch_size = 20"
      ],
      "execution_count": 8,
      "outputs": []
    },
    {
      "cell_type": "code",
      "metadata": {
        "id": "lBgPaRM2nHTG"
      },
      "source": [
        "# features matrix size comes from last layer of conv_base i.e. block5_pool (MaxPooling2D) which has output shape of 4,4,512\n",
        "\n",
        "def extract_features(directory, sample_count):\n",
        "    features = np.zeros(shape=(sample_count, 4, 4, 512))\n",
        "    labels = np.zeros(shape=(sample_count))\n",
        "    generator = datagen.flow_from_directory(directory,target_size=(150, 150),batch_size=batch_size,class_mode='binary')\n",
        "\n",
        "    i = 0\n",
        "    for inputs_batch, labels_batch in generator:\n",
        "        features_batch = conv_base.predict(inputs_batch)\n",
        "        features[i * batch_size : (i + 1) * batch_size] = features_batch\n",
        "        labels[i * batch_size : (i + 1) * batch_size] = labels_batch\n",
        "        i += 1\n",
        "        if i * batch_size >= sample_count:\n",
        "            # Note that since generators yield data indefinitely in a loop,\n",
        "            # we must `break` after every image has been seen once.\n",
        "            break\n",
        "    return features, labels"
      ],
      "execution_count": 9,
      "outputs": []
    },
    {
      "cell_type": "code",
      "metadata": {
        "colab": {
          "base_uri": "https://localhost:8080/"
        },
        "id": "CuulkN_jnPTP",
        "outputId": "a9953714-bada-4143-9f01-6b8fd99019e1"
      },
      "source": [
        "train_features, train_labels = extract_features(train_dir, 2000)\n",
        "validation_features, validation_labels = extract_features(validation_dir, 1000)\n",
        "test_features, test_labels = extract_features(test_dir, 1000)"
      ],
      "execution_count": 10,
      "outputs": [
        {
          "output_type": "stream",
          "text": [
            "Found 2000 images belonging to 2 classes.\n",
            "Found 1000 images belonging to 2 classes.\n",
            "Found 1000 images belonging to 2 classes.\n"
          ],
          "name": "stdout"
        }
      ]
    },
    {
      "cell_type": "markdown",
      "metadata": {
        "id": "ZvHXhHtynXc-"
      },
      "source": [
        "The extracted features are currently of shape (samples, 4, 4, 512). To feed them to a densely-connected classifier, first we must flatten them to (samples, 8192):"
      ]
    },
    {
      "cell_type": "code",
      "metadata": {
        "id": "NtAut7fRnRaU"
      },
      "source": [
        "train_features = np.reshape(train_features, (2000, 4 * 4 * 512))\n",
        "validation_features = np.reshape(validation_features, (1000, 4 * 4 * 512))\n",
        "test_features = np.reshape(test_features, (1000, 4 * 4 * 512))"
      ],
      "execution_count": 11,
      "outputs": []
    },
    {
      "cell_type": "code",
      "metadata": {
        "id": "xT5hEQdWnbIz"
      },
      "source": [
        "model = models.Sequential()\n",
        "model.add(layers.Dense(256, activation='relu', input_dim=4 * 4 * 512))\n",
        "model.add(layers.Dropout(0.5))\n",
        "model.add(layers.Dense(1, activation='sigmoid'))"
      ],
      "execution_count": 12,
      "outputs": []
    },
    {
      "cell_type": "code",
      "metadata": {
        "id": "fBiQXnZenjSz"
      },
      "source": [
        "model.compile(optimizer=optimizers.RMSprop(lr=2e-5),\n",
        "              loss='binary_crossentropy',\n",
        "              metrics=['acc'])"
      ],
      "execution_count": 13,
      "outputs": []
    },
    {
      "cell_type": "code",
      "metadata": {
        "colab": {
          "base_uri": "https://localhost:8080/"
        },
        "id": "TxkTu0BInk2U",
        "outputId": "e5d1ceca-23f0-464d-83c4-558804e4d238"
      },
      "source": [
        "history = model.fit(train_features, train_labels,\n",
        "                    epochs=30,\n",
        "                    batch_size=20,\n",
        "                    validation_data=(validation_features, validation_labels))"
      ],
      "execution_count": 14,
      "outputs": [
        {
          "output_type": "stream",
          "text": [
            "Epoch 1/30\n",
            "100/100 [==============================] - 2s 9ms/step - loss: 0.6495 - acc: 0.6225 - val_loss: 0.4433 - val_acc: 0.8490\n",
            "Epoch 2/30\n",
            "100/100 [==============================] - 1s 5ms/step - loss: 0.4620 - acc: 0.7823 - val_loss: 0.3761 - val_acc: 0.8500\n",
            "Epoch 3/30\n",
            "100/100 [==============================] - 1s 5ms/step - loss: 0.3604 - acc: 0.8548 - val_loss: 0.3254 - val_acc: 0.8730\n",
            "Epoch 4/30\n",
            "100/100 [==============================] - 1s 5ms/step - loss: 0.3176 - acc: 0.8612 - val_loss: 0.3100 - val_acc: 0.8720\n",
            "Epoch 5/30\n",
            "100/100 [==============================] - 1s 6ms/step - loss: 0.3036 - acc: 0.8802 - val_loss: 0.2889 - val_acc: 0.8880\n",
            "Epoch 6/30\n",
            "100/100 [==============================] - 1s 5ms/step - loss: 0.2722 - acc: 0.8884 - val_loss: 0.2796 - val_acc: 0.8900\n",
            "Epoch 7/30\n",
            "100/100 [==============================] - 1s 6ms/step - loss: 0.2355 - acc: 0.9076 - val_loss: 0.2690 - val_acc: 0.8950\n",
            "Epoch 8/30\n",
            "100/100 [==============================] - 1s 5ms/step - loss: 0.2349 - acc: 0.9119 - val_loss: 0.2704 - val_acc: 0.8890\n",
            "Epoch 9/30\n",
            "100/100 [==============================] - 1s 5ms/step - loss: 0.2289 - acc: 0.9090 - val_loss: 0.2603 - val_acc: 0.8970\n",
            "Epoch 10/30\n",
            "100/100 [==============================] - 1s 5ms/step - loss: 0.2149 - acc: 0.9239 - val_loss: 0.2566 - val_acc: 0.8960\n",
            "Epoch 11/30\n",
            "100/100 [==============================] - 1s 5ms/step - loss: 0.2041 - acc: 0.9187 - val_loss: 0.2505 - val_acc: 0.9030\n",
            "Epoch 12/30\n",
            "100/100 [==============================] - 1s 5ms/step - loss: 0.1897 - acc: 0.9359 - val_loss: 0.2482 - val_acc: 0.9000\n",
            "Epoch 13/30\n",
            "100/100 [==============================] - 1s 6ms/step - loss: 0.1802 - acc: 0.9375 - val_loss: 0.2534 - val_acc: 0.8950\n",
            "Epoch 14/30\n",
            "100/100 [==============================] - 1s 5ms/step - loss: 0.1773 - acc: 0.9358 - val_loss: 0.2494 - val_acc: 0.8930\n",
            "Epoch 15/30\n",
            "100/100 [==============================] - 1s 5ms/step - loss: 0.1730 - acc: 0.9379 - val_loss: 0.2406 - val_acc: 0.9070\n",
            "Epoch 16/30\n",
            "100/100 [==============================] - 1s 5ms/step - loss: 0.1573 - acc: 0.9451 - val_loss: 0.2475 - val_acc: 0.8910\n",
            "Epoch 17/30\n",
            "100/100 [==============================] - 1s 5ms/step - loss: 0.1398 - acc: 0.9557 - val_loss: 0.2406 - val_acc: 0.9000\n",
            "Epoch 18/30\n",
            "100/100 [==============================] - 1s 5ms/step - loss: 0.1339 - acc: 0.9552 - val_loss: 0.2417 - val_acc: 0.8990\n",
            "Epoch 19/30\n",
            "100/100 [==============================] - 1s 5ms/step - loss: 0.1354 - acc: 0.9568 - val_loss: 0.2468 - val_acc: 0.8950\n",
            "Epoch 20/30\n",
            "100/100 [==============================] - 1s 6ms/step - loss: 0.1406 - acc: 0.9488 - val_loss: 0.2546 - val_acc: 0.8920\n",
            "Epoch 21/30\n",
            "100/100 [==============================] - 1s 5ms/step - loss: 0.1455 - acc: 0.9485 - val_loss: 0.2370 - val_acc: 0.9060\n",
            "Epoch 22/30\n",
            "100/100 [==============================] - 1s 5ms/step - loss: 0.1269 - acc: 0.9576 - val_loss: 0.2369 - val_acc: 0.9040\n",
            "Epoch 23/30\n",
            "100/100 [==============================] - 1s 5ms/step - loss: 0.1193 - acc: 0.9653 - val_loss: 0.2392 - val_acc: 0.9010\n",
            "Epoch 24/30\n",
            "100/100 [==============================] - 1s 5ms/step - loss: 0.1080 - acc: 0.9638 - val_loss: 0.2404 - val_acc: 0.9010\n",
            "Epoch 25/30\n",
            "100/100 [==============================] - 1s 5ms/step - loss: 0.1029 - acc: 0.9720 - val_loss: 0.2372 - val_acc: 0.9030\n",
            "Epoch 26/30\n",
            "100/100 [==============================] - 1s 5ms/step - loss: 0.1093 - acc: 0.9682 - val_loss: 0.2381 - val_acc: 0.9020\n",
            "Epoch 27/30\n",
            "100/100 [==============================] - 1s 5ms/step - loss: 0.1071 - acc: 0.9699 - val_loss: 0.2404 - val_acc: 0.9000\n",
            "Epoch 28/30\n",
            "100/100 [==============================] - 1s 5ms/step - loss: 0.1086 - acc: 0.9667 - val_loss: 0.2416 - val_acc: 0.9010\n",
            "Epoch 29/30\n",
            "100/100 [==============================] - 1s 6ms/step - loss: 0.0964 - acc: 0.9684 - val_loss: 0.2399 - val_acc: 0.8990\n",
            "Epoch 30/30\n",
            "100/100 [==============================] - 1s 5ms/step - loss: 0.0870 - acc: 0.9738 - val_loss: 0.2396 - val_acc: 0.8980\n"
          ],
          "name": "stdout"
        }
      ]
    },
    {
      "cell_type": "code",
      "metadata": {
        "colab": {
          "base_uri": "https://localhost:8080/",
          "height": 545
        },
        "id": "GQygRvMgnm1H",
        "outputId": "b0cde4ac-26c5-4a94-819c-036d0a13a988"
      },
      "source": [
        "acc = history.history['acc']\n",
        "val_acc = history.history['val_acc']\n",
        "loss = history.history['loss']\n",
        "val_loss = history.history['val_loss']\n",
        "\n",
        "epochs = range(len(acc))\n",
        "\n",
        "plt.plot(epochs, acc, 'bo', label='Training acc')\n",
        "plt.plot(epochs, val_acc, 'b', label='Validation acc')\n",
        "plt.title('Training and validation accuracy')\n",
        "plt.legend()\n",
        "\n",
        "plt.figure()\n",
        "\n",
        "plt.plot(epochs, loss, 'bo', label='Training loss')\n",
        "plt.plot(epochs, val_loss, 'b', label='Validation loss')\n",
        "plt.title('Training and validation loss')\n",
        "plt.legend()\n",
        "\n",
        "plt.show()"
      ],
      "execution_count": 15,
      "outputs": [
        {
          "output_type": "display_data",
          "data": {
            "image/png": "[encoded data removed]",
            "text/plain": [
              "<Figure size 432x288 with 1 Axes>"
            ]
          },
          "metadata": {
            "tags": [],
            "needs_background": "light"
          }
        },
        {
          "output_type": "display_data",
          "data": {
            "image/png": "[encoded data removed]",
            "text/plain": [
              "<Figure size 432x288 with 1 Axes>"
            ]
          },
          "metadata": {
            "tags": [],
            "needs_background": "light"
          }
        }
      ]
    },
    {
      "cell_type": "markdown",
      "metadata": {
        "id": "KF6Ww-kknqeY"
      },
      "source": [
        "#### b) Feature Extraction with Data Augmentation (Improve Accuracy of Model)\n",
        "\n",
        "Adding a densely connected classifier on top of the convolutional base"
      ]
    },
    {
      "cell_type": "code",
      "metadata": {
        "id": "0VBUeTMTnyPT"
      },
      "source": [
        "model = models.Sequential()\n",
        "model.add(conv_base)\n",
        "model.add(layers.Flatten())\n",
        "model.add(layers.Dense(256, activation='relu'))\n",
        "model.add(layers.Dense(1, activation='sigmoid'))"
      ],
      "execution_count": 16,
      "outputs": []
    },
    {
      "cell_type": "code",
      "metadata": {
        "colab": {
          "base_uri": "https://localhost:8080/"
        },
        "id": "8SsjPTozn4Xe",
        "outputId": "d9d798f0-093b-40b9-924a-21c6e3e193a6"
      },
      "source": [
        "model.summary()"
      ],
      "execution_count": 17,
      "outputs": [
        {
          "output_type": "stream",
          "text": [
            "Model: \"sequential_1\"\n",
            "_________________________________________________________________\n",
            "Layer (type)                 Output Shape              Param #   \n",
            "=================================================================\n",
            "vgg16 (Functional)           (None, 4, 4, 512)         14714688  \n",
            "_________________________________________________________________\n",
            "flatten (Flatten)            (None, 8192)              0         \n",
            "_________________________________________________________________\n",
            "dense_2 (Dense)              (None, 256)               2097408   \n",
            "_________________________________________________________________\n",
            "dense_3 (Dense)              (None, 1)                 257       \n",
            "=================================================================\n",
            "Total params: 16,812,353\n",
            "Trainable params: 16,812,353\n",
            "Non-trainable params: 0\n",
            "_________________________________________________________________\n"
          ],
          "name": "stdout"
        }
      ]
    },
    {
      "cell_type": "markdown",
      "metadata": {
        "id": "zLvOATX9oAqe"
      },
      "source": [
        "Freeze conv_base:\n",
        "\n",
        "Note that in order for these changes to take effect, you must first compile the model. If you ever modify weight trainability after compilation, you should then recompile the model, or these changes will be ignored."
      ]
    },
    {
      "cell_type": "code",
      "metadata": {
        "colab": {
          "base_uri": "https://localhost:8080/"
        },
        "id": "Bv0WMbfYn-BW",
        "outputId": "7e2446b4-54b8-4bf9-b08d-8fd7fb3e5925"
      },
      "source": [
        "print('This is the number of trainable weights before freezing the conv base:', len(model.trainable_weights))"
      ],
      "execution_count": 18,
      "outputs": [
        {
          "output_type": "stream",
          "text": [
            "This is the number of trainable weights before freezing the conv base: 30\n"
          ],
          "name": "stdout"
        }
      ]
    },
    {
      "cell_type": "code",
      "metadata": {
        "colab": {
          "base_uri": "https://localhost:8080/"
        },
        "id": "QB2yP1h4oHeb",
        "outputId": "ca27822a-fc47-46a1-88ff-fb7cdeeb72f0"
      },
      "source": [
        "conv_base.trainable = False\n",
        "print('This is the number of trainable weights after freezing the conv base:', len(model.trainable_weights))"
      ],
      "execution_count": 19,
      "outputs": [
        {
          "output_type": "stream",
          "text": [
            "This is the number of trainable weights after freezing the conv base: 4\n"
          ],
          "name": "stdout"
        }
      ]
    },
    {
      "cell_type": "code",
      "metadata": {
        "colab": {
          "base_uri": "https://localhost:8080/"
        },
        "id": "Z2NlZ7dNoJeP",
        "outputId": "7c0b247a-8e87-4c2d-e2b4-e5199af27ba8"
      },
      "source": [
        "train_datagen = ImageDataGenerator(\n",
        "      rescale=1./255,\n",
        "      rotation_range=40,\n",
        "      width_shift_range=0.2,\n",
        "      height_shift_range=0.2,\n",
        "      shear_range=0.2,\n",
        "      zoom_range=0.2,\n",
        "      horizontal_flip=True,\n",
        "      fill_mode='nearest')\n",
        "\n",
        "# Note that the validation data should not be augmented!\n",
        "test_datagen = ImageDataGenerator(rescale=1./255)\n",
        "\n",
        "train_generator = train_datagen.flow_from_directory(\n",
        "        # This is the target directory\n",
        "        train_dir,\n",
        "        # All images will be resized to 150*150\n",
        "        target_size=(150, 150),\n",
        "        batch_size=20,\n",
        "        # Since we use binary_crossentropy loss, we need binary labels\n",
        "        class_mode='binary')\n",
        "\n",
        "validation_generator = test_datagen.flow_from_directory(\n",
        "        validation_dir,\n",
        "        target_size=(150, 150),\n",
        "        batch_size=20,\n",
        "        class_mode='binary')"
      ],
      "execution_count": 20,
      "outputs": [
        {
          "output_type": "stream",
          "text": [
            "Found 2000 images belonging to 2 classes.\n",
            "Found 1000 images belonging to 2 classes.\n"
          ],
          "name": "stdout"
        }
      ]
    },
    {
      "cell_type": "code",
      "metadata": {
        "id": "fYbU1MrvoTAW"
      },
      "source": [
        "model.compile(loss='binary_crossentropy',\n",
        "              optimizer=optimizers.RMSprop(lr=2e-5),\n",
        "              metrics=['acc'])"
      ],
      "execution_count": 21,
      "outputs": []
    },
    {
      "cell_type": "code",
      "metadata": {
        "colab": {
          "base_uri": "https://localhost:8080/"
        },
        "id": "XG-iUFHhoWQp",
        "outputId": "d265b188-aafd-47a1-ef9d-59f08d676cf4"
      },
      "source": [
        "history = model.fit_generator(\n",
        "      train_generator,\n",
        "      steps_per_epoch=100,\n",
        "      epochs=30,\n",
        "      validation_data=validation_generator,\n",
        "      validation_steps=50)"
      ],
      "execution_count": 22,
      "outputs": [
        {
          "output_type": "stream",
          "text": [
            "/usr/local/lib/python3.7/dist-packages/tensorflow/python/keras/engine/training.py:1844: UserWarning: `Model.fit_generator` is deprecated and will be removed in a future version. Please use `Model.fit`, which supports generators.\n",
            "  warnings.warn('`Model.fit_generator` is deprecated and '\n"
          ],
          "name": "stderr"
        },
        {
          "output_type": "stream",
          "text": [
            "Epoch 1/30\n",
            "100/100 [==============================] - 28s 273ms/step - loss: 0.6566 - acc: 0.6143 - val_loss: 0.4600 - val_acc: 0.8160\n",
            "Epoch 2/30\n",
            "100/100 [==============================] - 27s 268ms/step - loss: 0.5166 - acc: 0.7574 - val_loss: 0.3763 - val_acc: 0.8490\n",
            "Epoch 3/30\n",
            "100/100 [==============================] - 27s 268ms/step - loss: 0.4426 - acc: 0.8084 - val_loss: 0.3394 - val_acc: 0.8620\n",
            "Epoch 4/30\n",
            "100/100 [==============================] - 27s 267ms/step - loss: 0.3972 - acc: 0.8320 - val_loss: 0.3122 - val_acc: 0.8730\n",
            "Epoch 5/30\n",
            "100/100 [==============================] - 27s 268ms/step - loss: 0.3865 - acc: 0.8395 - val_loss: 0.3073 - val_acc: 0.8720\n",
            "Epoch 6/30\n",
            "100/100 [==============================] - 26s 264ms/step - loss: 0.3774 - acc: 0.8321 - val_loss: 0.2884 - val_acc: 0.8790\n",
            "Epoch 7/30\n",
            "100/100 [==============================] - 27s 266ms/step - loss: 0.3582 - acc: 0.8428 - val_loss: 0.2894 - val_acc: 0.8850\n",
            "Epoch 8/30\n",
            "100/100 [==============================] - 26s 264ms/step - loss: 0.3550 - acc: 0.8443 - val_loss: 0.2709 - val_acc: 0.8860\n",
            "Epoch 9/30\n",
            "100/100 [==============================] - 27s 267ms/step - loss: 0.3551 - acc: 0.8506 - val_loss: 0.2784 - val_acc: 0.8790\n",
            "Epoch 10/30\n",
            "100/100 [==============================] - 26s 263ms/step - loss: 0.3356 - acc: 0.8559 - val_loss: 0.2631 - val_acc: 0.8900\n",
            "Epoch 11/30\n",
            "100/100 [==============================] - 26s 265ms/step - loss: 0.3129 - acc: 0.8660 - val_loss: 0.2585 - val_acc: 0.8910\n",
            "Epoch 12/30\n",
            "100/100 [==============================] - 27s 266ms/step - loss: 0.3388 - acc: 0.8469 - val_loss: 0.2563 - val_acc: 0.8930\n",
            "Epoch 13/30\n",
            "100/100 [==============================] - 26s 265ms/step - loss: 0.3187 - acc: 0.8621 - val_loss: 0.2517 - val_acc: 0.8940\n",
            "Epoch 14/30\n",
            "100/100 [==============================] - 26s 265ms/step - loss: 0.3059 - acc: 0.8736 - val_loss: 0.2538 - val_acc: 0.8950\n",
            "Epoch 15/30\n",
            "100/100 [==============================] - 26s 263ms/step - loss: 0.2896 - acc: 0.8778 - val_loss: 0.2541 - val_acc: 0.8910\n",
            "Epoch 16/30\n",
            "100/100 [==============================] - 27s 266ms/step - loss: 0.3005 - acc: 0.8641 - val_loss: 0.2491 - val_acc: 0.8900\n",
            "Epoch 17/30\n",
            "100/100 [==============================] - 27s 265ms/step - loss: 0.2941 - acc: 0.8725 - val_loss: 0.2477 - val_acc: 0.8940\n",
            "Epoch 18/30\n",
            "100/100 [==============================] - 27s 266ms/step - loss: 0.3032 - acc: 0.8744 - val_loss: 0.2470 - val_acc: 0.9000\n",
            "Epoch 19/30\n",
            "100/100 [==============================] - 27s 265ms/step - loss: 0.2984 - acc: 0.8719 - val_loss: 0.2473 - val_acc: 0.8980\n",
            "Epoch 20/30\n",
            "100/100 [==============================] - 26s 264ms/step - loss: 0.2825 - acc: 0.8944 - val_loss: 0.2497 - val_acc: 0.8950\n",
            "Epoch 21/30\n",
            "100/100 [==============================] - 27s 267ms/step - loss: 0.3107 - acc: 0.8658 - val_loss: 0.2454 - val_acc: 0.9040\n",
            "Epoch 22/30\n",
            "100/100 [==============================] - 27s 266ms/step - loss: 0.2961 - acc: 0.8657 - val_loss: 0.2402 - val_acc: 0.9060\n",
            "Epoch 23/30\n",
            "100/100 [==============================] - 27s 266ms/step - loss: 0.2911 - acc: 0.8788 - val_loss: 0.2494 - val_acc: 0.8950\n",
            "Epoch 24/30\n",
            "100/100 [==============================] - 27s 265ms/step - loss: 0.2759 - acc: 0.8918 - val_loss: 0.2410 - val_acc: 0.9020\n",
            "Epoch 25/30\n",
            "100/100 [==============================] - 26s 265ms/step - loss: 0.2997 - acc: 0.8678 - val_loss: 0.2421 - val_acc: 0.9030\n",
            "Epoch 26/30\n",
            "100/100 [==============================] - 27s 265ms/step - loss: 0.2917 - acc: 0.8729 - val_loss: 0.2436 - val_acc: 0.9040\n",
            "Epoch 27/30\n",
            "100/100 [==============================] - 27s 267ms/step - loss: 0.2951 - acc: 0.8645 - val_loss: 0.2413 - val_acc: 0.9040\n",
            "Epoch 28/30\n",
            "100/100 [==============================] - 27s 266ms/step - loss: 0.2648 - acc: 0.8928 - val_loss: 0.2396 - val_acc: 0.9080\n",
            "Epoch 29/30\n",
            "100/100 [==============================] - 27s 267ms/step - loss: 0.2737 - acc: 0.8732 - val_loss: 0.2377 - val_acc: 0.9070\n",
            "Epoch 30/30\n",
            "100/100 [==============================] - 27s 266ms/step - loss: 0.2989 - acc: 0.8812 - val_loss: 0.2424 - val_acc: 0.9050\n"
          ],
          "name": "stdout"
        }
      ]
    },
    {
      "cell_type": "code",
      "metadata": {
        "colab": {
          "base_uri": "https://localhost:8080/",
          "height": 545
        },
        "id": "7KNwNulFocEF",
        "outputId": "a15e5641-fd4a-4d59-f18b-c158c3012ebb"
      },
      "source": [
        "acc = history.history['acc']\n",
        "val_acc = history.history['val_acc']\n",
        "loss = history.history['loss']\n",
        "val_loss = history.history['val_loss']\n",
        "\n",
        "epochs = range(len(acc))\n",
        "\n",
        "plt.plot(epochs, acc, 'bo', label='Training acc')\n",
        "plt.plot(epochs, val_acc, 'b', label='Validation acc')\n",
        "plt.title('Training and validation accuracy')\n",
        "plt.legend()\n",
        "\n",
        "plt.figure()\n",
        "\n",
        "plt.plot(epochs, loss, 'bo', label='Training loss')\n",
        "plt.plot(epochs, val_loss, 'b', label='Validation loss')\n",
        "plt.title('Training and validation loss')\n",
        "plt.legend()\n",
        "\n",
        "plt.show()"
      ],
      "execution_count": 23,
      "outputs": [
        {
          "output_type": "display_data",
          "data": {
            "image/png": "[encoded data removed]",
            "text/plain": [
              "<Figure size 432x288 with 1 Axes>"
            ]
          },
          "metadata": {
            "tags": [],
            "needs_background": "light"
          }
        },
        {
          "output_type": "display_data",
          "data": {
            "image/png": "[encoded data removed]",
            "text/plain": [
              "<Figure size 432x288 with 1 Axes>"
            ]
          },
          "metadata": {
            "tags": [],
            "needs_background": "light"
          }
        }
      ]
    },
    {
      "cell_type": "markdown",
      "metadata": {
        "id": "9UiUNTDnbSpO"
      },
      "source": [
        "### c) Fine Tuning"
      ]
    },
    {
      "cell_type": "markdown",
      "metadata": {
        "id": "ZzMq2ezpcG6F"
      },
      "source": [
        "Steps for fine-tuning a network are as follows:(First 3 steps already completed above)\n",
        "\n",
        "1 Add your custom network on top of an already-trained base network.\n",
        "\n",
        "2 Freeze the base network.\n",
        "\n",
        "3 Train the part you added.\n",
        "\n",
        "4 Unfreeze some layers in the base network.\n",
        "\n",
        "5 Jointly train both these layers and the part you added."
      ]
    },
    {
      "cell_type": "code",
      "metadata": {
        "colab": {
          "base_uri": "https://localhost:8080/"
        },
        "id": "53tpVGW5oBik",
        "outputId": "e179968f-8715-489b-ea8b-2b6a005fee53"
      },
      "source": [
        "# We will Fine Tune / un-freeze the last three convolutional layers, which means all layers up to block4_pool should be frozen.\n",
        "# and the layers block5_conv1, block5_conv2, and block5_conv3 should be trainable\n",
        "\n",
        "conv_base.summary()"
      ],
      "execution_count": 26,
      "outputs": [
        {
          "output_type": "stream",
          "text": [
            "Model: \"vgg16\"\n",
            "_________________________________________________________________\n",
            "Layer (type)                 Output Shape              Param #   \n",
            "=================================================================\n",
            "input_1 (InputLayer)         [(None, 150, 150, 3)]     0         \n",
            "_________________________________________________________________\n",
            "block1_conv1 (Conv2D)        (None, 150, 150, 64)      1792      \n",
            "_________________________________________________________________\n",
            "block1_conv2 (Conv2D)        (None, 150, 150, 64)      36928     \n",
            "_________________________________________________________________\n",
            "block1_pool (MaxPooling2D)   (None, 75, 75, 64)        0         \n",
            "_________________________________________________________________\n",
            "block2_conv1 (Conv2D)        (None, 75, 75, 128)       73856     \n",
            "_________________________________________________________________\n",
            "block2_conv2 (Conv2D)        (None, 75, 75, 128)       147584    \n",
            "_________________________________________________________________\n",
            "block2_pool (MaxPooling2D)   (None, 37, 37, 128)       0         \n",
            "_________________________________________________________________\n",
            "block3_conv1 (Conv2D)        (None, 37, 37, 256)       295168    \n",
            "_________________________________________________________________\n",
            "block3_conv2 (Conv2D)        (None, 37, 37, 256)       590080    \n",
            "_________________________________________________________________\n",
            "block3_conv3 (Conv2D)        (None, 37, 37, 256)       590080    \n",
            "_________________________________________________________________\n",
            "block3_pool (MaxPooling2D)   (None, 18, 18, 256)       0         \n",
            "_________________________________________________________________\n",
            "block4_conv1 (Conv2D)        (None, 18, 18, 512)       1180160   \n",
            "_________________________________________________________________\n",
            "block4_conv2 (Conv2D)        (None, 18, 18, 512)       2359808   \n",
            "_________________________________________________________________\n",
            "block4_conv3 (Conv2D)        (None, 18, 18, 512)       2359808   \n",
            "_________________________________________________________________\n",
            "block4_pool (MaxPooling2D)   (None, 9, 9, 512)         0         \n",
            "_________________________________________________________________\n",
            "block5_conv1 (Conv2D)        (None, 9, 9, 512)         2359808   \n",
            "_________________________________________________________________\n",
            "block5_conv2 (Conv2D)        (None, 9, 9, 512)         2359808   \n",
            "_________________________________________________________________\n",
            "block5_conv3 (Conv2D)        (None, 9, 9, 512)         2359808   \n",
            "_________________________________________________________________\n",
            "block5_pool (MaxPooling2D)   (None, 4, 4, 512)         0         \n",
            "=================================================================\n",
            "Total params: 14,714,688\n",
            "Trainable params: 0\n",
            "Non-trainable params: 14,714,688\n",
            "_________________________________________________________________\n"
          ],
          "name": "stdout"
        }
      ]
    },
    {
      "cell_type": "code",
      "metadata": {
        "id": "1ZxTc4mZcg2j"
      },
      "source": [
        "conv_base.trainable = True\n",
        "set_trainable = False\n",
        "\n",
        "for layer in conv_base.layers:\n",
        "  if layer.name == 'block5_conv1':\n",
        "    set_trainable = True\n",
        "  if set_trainable:\n",
        "    layer.trainable = True\n",
        "  else:\n",
        "    layer.trainable = False"
      ],
      "execution_count": 29,
      "outputs": []
    },
    {
      "cell_type": "code",
      "metadata": {
        "id": "DqJzWmxdeYNs"
      },
      "source": [
        "model.compile(loss='binary_crossentropy',\n",
        "              optimizer=optimizers.RMSprop(lr=1e-5),\n",
        "              metrics=['acc'])"
      ],
      "execution_count": 30,
      "outputs": []
    },
    {
      "cell_type": "code",
      "metadata": {
        "colab": {
          "base_uri": "https://localhost:8080/"
        },
        "id": "5ffepr84fEHj",
        "outputId": "f6b8abd2-9a59-4821-b9ce-8f0a1bef2641"
      },
      "source": [
        "history = model.fit_generator(\n",
        "      train_generator,\n",
        "      steps_per_epoch=100,\n",
        "      epochs=100,\n",
        "      validation_data=validation_generator,\n",
        "      validation_steps=50)"
      ],
      "execution_count": 31,
      "outputs": [
        {
          "output_type": "stream",
          "text": [
            "/usr/local/lib/python3.7/dist-packages/tensorflow/python/keras/engine/training.py:1844: UserWarning: `Model.fit_generator` is deprecated and will be removed in a future version. Please use `Model.fit`, which supports generators.\n",
            "  warnings.warn('`Model.fit_generator` is deprecated and '\n"
          ],
          "name": "stderr"
        },
        {
          "output_type": "stream",
          "text": [
            "Epoch 1/100\n",
            "100/100 [==============================] - 31s 295ms/step - loss: 0.3258 - acc: 0.8582 - val_loss: 0.2424 - val_acc: 0.9020\n",
            "Epoch 2/100\n",
            "100/100 [==============================] - 29s 292ms/step - loss: 0.2593 - acc: 0.8849 - val_loss: 0.2158 - val_acc: 0.9180\n",
            "Epoch 3/100\n",
            "100/100 [==============================] - 29s 292ms/step - loss: 0.2626 - acc: 0.8843 - val_loss: 0.1939 - val_acc: 0.9240\n",
            "Epoch 4/100\n",
            "100/100 [==============================] - 29s 291ms/step - loss: 0.2239 - acc: 0.9031 - val_loss: 0.1946 - val_acc: 0.9240\n",
            "Epoch 5/100\n",
            "100/100 [==============================] - 29s 286ms/step - loss: 0.2116 - acc: 0.9122 - val_loss: 0.1832 - val_acc: 0.9260\n",
            "Epoch 6/100\n",
            "100/100 [==============================] - 28s 281ms/step - loss: 0.1961 - acc: 0.9094 - val_loss: 0.2099 - val_acc: 0.9220\n",
            "Epoch 7/100\n",
            "100/100 [==============================] - 28s 282ms/step - loss: 0.1696 - acc: 0.9273 - val_loss: 0.1776 - val_acc: 0.9290\n",
            "Epoch 8/100\n",
            "100/100 [==============================] - 28s 282ms/step - loss: 0.1697 - acc: 0.9268 - val_loss: 0.1715 - val_acc: 0.9310\n",
            "Epoch 9/100\n",
            "100/100 [==============================] - 28s 281ms/step - loss: 0.1727 - acc: 0.9305 - val_loss: 0.1909 - val_acc: 0.9230\n",
            "Epoch 10/100\n",
            "100/100 [==============================] - 28s 281ms/step - loss: 0.1433 - acc: 0.9441 - val_loss: 0.2275 - val_acc: 0.9200\n",
            "Epoch 11/100\n",
            "100/100 [==============================] - 28s 280ms/step - loss: 0.1679 - acc: 0.9275 - val_loss: 0.1744 - val_acc: 0.9310\n",
            "Epoch 12/100\n",
            "100/100 [==============================] - 28s 282ms/step - loss: 0.1451 - acc: 0.9440 - val_loss: 0.1718 - val_acc: 0.9340\n",
            "Epoch 13/100\n",
            "100/100 [==============================] - 28s 280ms/step - loss: 0.1423 - acc: 0.9408 - val_loss: 0.1661 - val_acc: 0.9380\n",
            "Epoch 14/100\n",
            "100/100 [==============================] - 28s 279ms/step - loss: 0.1132 - acc: 0.9638 - val_loss: 0.2294 - val_acc: 0.9230\n",
            "Epoch 15/100\n",
            "100/100 [==============================] - 28s 280ms/step - loss: 0.1203 - acc: 0.9511 - val_loss: 0.1741 - val_acc: 0.9370\n",
            "Epoch 16/100\n",
            "100/100 [==============================] - 28s 279ms/step - loss: 0.1225 - acc: 0.9518 - val_loss: 0.1858 - val_acc: 0.9290\n",
            "Epoch 17/100\n",
            "100/100 [==============================] - 28s 281ms/step - loss: 0.1100 - acc: 0.9545 - val_loss: 0.2047 - val_acc: 0.9230\n",
            "Epoch 18/100\n",
            "100/100 [==============================] - 28s 280ms/step - loss: 0.0984 - acc: 0.9577 - val_loss: 0.1840 - val_acc: 0.9340\n",
            "Epoch 19/100\n",
            "100/100 [==============================] - 28s 279ms/step - loss: 0.1088 - acc: 0.9634 - val_loss: 0.2154 - val_acc: 0.9230\n",
            "Epoch 20/100\n",
            "100/100 [==============================] - 28s 280ms/step - loss: 0.1070 - acc: 0.9596 - val_loss: 0.1710 - val_acc: 0.9390\n",
            "Epoch 21/100\n",
            "100/100 [==============================] - 28s 277ms/step - loss: 0.0982 - acc: 0.9625 - val_loss: 0.2044 - val_acc: 0.9260\n",
            "Epoch 22/100\n",
            "100/100 [==============================] - 28s 277ms/step - loss: 0.1044 - acc: 0.9618 - val_loss: 0.1999 - val_acc: 0.9310\n",
            "Epoch 23/100\n",
            "100/100 [==============================] - 28s 278ms/step - loss: 0.0815 - acc: 0.9671 - val_loss: 0.1845 - val_acc: 0.9330\n",
            "Epoch 24/100\n",
            "100/100 [==============================] - 28s 281ms/step - loss: 0.0896 - acc: 0.9602 - val_loss: 0.2024 - val_acc: 0.9300\n",
            "Epoch 25/100\n",
            "100/100 [==============================] - 28s 278ms/step - loss: 0.0764 - acc: 0.9691 - val_loss: 0.2454 - val_acc: 0.9220\n",
            "Epoch 26/100\n",
            "100/100 [==============================] - 28s 276ms/step - loss: 0.0734 - acc: 0.9682 - val_loss: 0.1877 - val_acc: 0.9340\n",
            "Epoch 27/100\n",
            "100/100 [==============================] - 28s 275ms/step - loss: 0.0656 - acc: 0.9743 - val_loss: 0.3023 - val_acc: 0.9100\n",
            "Epoch 28/100\n",
            "100/100 [==============================] - 28s 278ms/step - loss: 0.0643 - acc: 0.9750 - val_loss: 0.2033 - val_acc: 0.9360\n",
            "Epoch 29/100\n",
            "100/100 [==============================] - 28s 279ms/step - loss: 0.0637 - acc: 0.9729 - val_loss: 0.1702 - val_acc: 0.9420\n",
            "Epoch 30/100\n",
            "100/100 [==============================] - 28s 277ms/step - loss: 0.0463 - acc: 0.9823 - val_loss: 0.2036 - val_acc: 0.9320\n",
            "Epoch 31/100\n",
            "100/100 [==============================] - 28s 277ms/step - loss: 0.0624 - acc: 0.9758 - val_loss: 0.1923 - val_acc: 0.9420\n",
            "Epoch 32/100\n",
            "100/100 [==============================] - 28s 281ms/step - loss: 0.0524 - acc: 0.9813 - val_loss: 0.1909 - val_acc: 0.9310\n",
            "Epoch 33/100\n",
            "100/100 [==============================] - 29s 290ms/step - loss: 0.0627 - acc: 0.9789 - val_loss: 0.2058 - val_acc: 0.9310\n",
            "Epoch 34/100\n",
            "100/100 [==============================] - 29s 292ms/step - loss: 0.0571 - acc: 0.9811 - val_loss: 0.1712 - val_acc: 0.9370\n",
            "Epoch 35/100\n",
            "100/100 [==============================] - 29s 286ms/step - loss: 0.0601 - acc: 0.9845 - val_loss: 0.2131 - val_acc: 0.9340\n",
            "Epoch 36/100\n",
            "100/100 [==============================] - 28s 282ms/step - loss: 0.0543 - acc: 0.9848 - val_loss: 0.2415 - val_acc: 0.9260\n",
            "Epoch 37/100\n",
            "100/100 [==============================] - 28s 282ms/step - loss: 0.0662 - acc: 0.9759 - val_loss: 0.2018 - val_acc: 0.9340\n",
            "Epoch 38/100\n",
            "100/100 [==============================] - 28s 281ms/step - loss: 0.0426 - acc: 0.9825 - val_loss: 0.2338 - val_acc: 0.9290\n",
            "Epoch 39/100\n",
            "100/100 [==============================] - 28s 282ms/step - loss: 0.0471 - acc: 0.9826 - val_loss: 0.1971 - val_acc: 0.9380\n",
            "Epoch 40/100\n",
            "100/100 [==============================] - 28s 283ms/step - loss: 0.0380 - acc: 0.9887 - val_loss: 0.2238 - val_acc: 0.9270\n",
            "Epoch 41/100\n",
            "100/100 [==============================] - 28s 279ms/step - loss: 0.0432 - acc: 0.9865 - val_loss: 0.1866 - val_acc: 0.9430\n",
            "Epoch 42/100\n",
            "100/100 [==============================] - 28s 278ms/step - loss: 0.0415 - acc: 0.9880 - val_loss: 0.2111 - val_acc: 0.9370\n",
            "Epoch 43/100\n",
            "100/100 [==============================] - 28s 276ms/step - loss: 0.0485 - acc: 0.9837 - val_loss: 0.2283 - val_acc: 0.9370\n",
            "Epoch 44/100\n",
            "100/100 [==============================] - 28s 279ms/step - loss: 0.0500 - acc: 0.9782 - val_loss: 0.2502 - val_acc: 0.9300\n",
            "Epoch 45/100\n",
            "100/100 [==============================] - 28s 280ms/step - loss: 0.0391 - acc: 0.9903 - val_loss: 0.2192 - val_acc: 0.9380\n",
            "Epoch 46/100\n",
            "100/100 [==============================] - 28s 276ms/step - loss: 0.0409 - acc: 0.9850 - val_loss: 0.3634 - val_acc: 0.9160\n",
            "Epoch 47/100\n",
            "100/100 [==============================] - 28s 277ms/step - loss: 0.0569 - acc: 0.9801 - val_loss: 0.2206 - val_acc: 0.9340\n",
            "Epoch 48/100\n",
            "100/100 [==============================] - 28s 278ms/step - loss: 0.0535 - acc: 0.9800 - val_loss: 0.2121 - val_acc: 0.9350\n",
            "Epoch 49/100\n",
            "100/100 [==============================] - 28s 278ms/step - loss: 0.0422 - acc: 0.9884 - val_loss: 0.2062 - val_acc: 0.9310\n",
            "Epoch 50/100\n",
            "100/100 [==============================] - 28s 280ms/step - loss: 0.0356 - acc: 0.9866 - val_loss: 0.2042 - val_acc: 0.9340\n",
            "Epoch 51/100\n",
            "100/100 [==============================] - 28s 284ms/step - loss: 0.0363 - acc: 0.9905 - val_loss: 0.2315 - val_acc: 0.9300\n",
            "Epoch 52/100\n",
            "100/100 [==============================] - 28s 280ms/step - loss: 0.0344 - acc: 0.9885 - val_loss: 0.2124 - val_acc: 0.9380\n",
            "Epoch 53/100\n",
            "100/100 [==============================] - 28s 281ms/step - loss: 0.0428 - acc: 0.9851 - val_loss: 0.2169 - val_acc: 0.9400\n",
            "Epoch 54/100\n",
            "100/100 [==============================] - 28s 277ms/step - loss: 0.0300 - acc: 0.9889 - val_loss: 0.2075 - val_acc: 0.9390\n",
            "Epoch 55/100\n",
            "100/100 [==============================] - 28s 281ms/step - loss: 0.0331 - acc: 0.9873 - val_loss: 0.2019 - val_acc: 0.9350\n",
            "Epoch 56/100\n",
            "100/100 [==============================] - 28s 277ms/step - loss: 0.0319 - acc: 0.9856 - val_loss: 0.2109 - val_acc: 0.9390\n",
            "Epoch 57/100\n",
            "100/100 [==============================] - 28s 278ms/step - loss: 0.0313 - acc: 0.9897 - val_loss: 0.3606 - val_acc: 0.9200\n",
            "Epoch 58/100\n",
            "100/100 [==============================] - 28s 276ms/step - loss: 0.0371 - acc: 0.9871 - val_loss: 0.2165 - val_acc: 0.9410\n",
            "Epoch 59/100\n",
            "100/100 [==============================] - 27s 275ms/step - loss: 0.0264 - acc: 0.9899 - val_loss: 0.2727 - val_acc: 0.9270\n",
            "Epoch 60/100\n",
            "100/100 [==============================] - 28s 278ms/step - loss: 0.0251 - acc: 0.9891 - val_loss: 0.2066 - val_acc: 0.9430\n",
            "Epoch 61/100\n",
            "100/100 [==============================] - 28s 279ms/step - loss: 0.0233 - acc: 0.9889 - val_loss: 0.2252 - val_acc: 0.9400\n",
            "Epoch 62/100\n",
            "100/100 [==============================] - 28s 278ms/step - loss: 0.0196 - acc: 0.9930 - val_loss: 0.2349 - val_acc: 0.9390\n",
            "Epoch 63/100\n",
            "100/100 [==============================] - 28s 277ms/step - loss: 0.0344 - acc: 0.9863 - val_loss: 0.3082 - val_acc: 0.9240\n",
            "Epoch 64/100\n",
            "100/100 [==============================] - 28s 278ms/step - loss: 0.0325 - acc: 0.9916 - val_loss: 0.2360 - val_acc: 0.9380\n",
            "Epoch 65/100\n",
            "100/100 [==============================] - 28s 276ms/step - loss: 0.0236 - acc: 0.9908 - val_loss: 0.2796 - val_acc: 0.9320\n",
            "Epoch 66/100\n",
            "100/100 [==============================] - 28s 278ms/step - loss: 0.0280 - acc: 0.9902 - val_loss: 0.3301 - val_acc: 0.9210\n",
            "Epoch 67/100\n",
            "100/100 [==============================] - 28s 276ms/step - loss: 0.0318 - acc: 0.9844 - val_loss: 0.2289 - val_acc: 0.9440\n",
            "Epoch 68/100\n",
            "100/100 [==============================] - 28s 277ms/step - loss: 0.0239 - acc: 0.9899 - val_loss: 0.2371 - val_acc: 0.9420\n",
            "Epoch 69/100\n",
            "100/100 [==============================] - 28s 276ms/step - loss: 0.0235 - acc: 0.9909 - val_loss: 0.2290 - val_acc: 0.9420\n",
            "Epoch 70/100\n",
            "100/100 [==============================] - 28s 276ms/step - loss: 0.0401 - acc: 0.9867 - val_loss: 0.2715 - val_acc: 0.9320\n",
            "Epoch 71/100\n",
            "100/100 [==============================] - 28s 275ms/step - loss: 0.0201 - acc: 0.9915 - val_loss: 0.2456 - val_acc: 0.9450\n",
            "Epoch 72/100\n",
            "100/100 [==============================] - 28s 278ms/step - loss: 0.0242 - acc: 0.9914 - val_loss: 0.2894 - val_acc: 0.9330\n",
            "Epoch 73/100\n",
            "100/100 [==============================] - 28s 278ms/step - loss: 0.0217 - acc: 0.9909 - val_loss: 0.2808 - val_acc: 0.9320\n",
            "Epoch 74/100\n",
            "100/100 [==============================] - 28s 276ms/step - loss: 0.0224 - acc: 0.9913 - val_loss: 0.3259 - val_acc: 0.9240\n",
            "Epoch 75/100\n",
            "100/100 [==============================] - 28s 278ms/step - loss: 0.0193 - acc: 0.9964 - val_loss: 0.2324 - val_acc: 0.9420\n",
            "Epoch 76/100\n",
            "100/100 [==============================] - 28s 277ms/step - loss: 0.0320 - acc: 0.9875 - val_loss: 0.2938 - val_acc: 0.9230\n",
            "Epoch 77/100\n",
            "100/100 [==============================] - 28s 278ms/step - loss: 0.0156 - acc: 0.9964 - val_loss: 0.2246 - val_acc: 0.9440\n",
            "Epoch 78/100\n",
            "100/100 [==============================] - 28s 278ms/step - loss: 0.0248 - acc: 0.9905 - val_loss: 0.2722 - val_acc: 0.9370\n",
            "Epoch 79/100\n",
            "100/100 [==============================] - 28s 282ms/step - loss: 0.0202 - acc: 0.9935 - val_loss: 0.2705 - val_acc: 0.9360\n",
            "Epoch 80/100\n",
            "100/100 [==============================] - 29s 292ms/step - loss: 0.0279 - acc: 0.9908 - val_loss: 0.2490 - val_acc: 0.9390\n",
            "Epoch 81/100\n",
            "100/100 [==============================] - 29s 292ms/step - loss: 0.0353 - acc: 0.9853 - val_loss: 0.2175 - val_acc: 0.9510\n",
            "Epoch 82/100\n",
            "100/100 [==============================] - 28s 282ms/step - loss: 0.0186 - acc: 0.9921 - val_loss: 0.2830 - val_acc: 0.9350\n",
            "Epoch 83/100\n",
            "100/100 [==============================] - 28s 283ms/step - loss: 0.0429 - acc: 0.9883 - val_loss: 0.2624 - val_acc: 0.9410\n",
            "Epoch 84/100\n",
            "100/100 [==============================] - 28s 282ms/step - loss: 0.0306 - acc: 0.9926 - val_loss: 0.2581 - val_acc: 0.9330\n",
            "Epoch 85/100\n",
            "100/100 [==============================] - 28s 281ms/step - loss: 0.0230 - acc: 0.9909 - val_loss: 0.2233 - val_acc: 0.9440\n",
            "Epoch 86/100\n",
            "100/100 [==============================] - 28s 281ms/step - loss: 0.0222 - acc: 0.9927 - val_loss: 0.3253 - val_acc: 0.9290\n",
            "Epoch 87/100\n",
            "100/100 [==============================] - 28s 281ms/step - loss: 0.0251 - acc: 0.9921 - val_loss: 0.2858 - val_acc: 0.9340\n",
            "Epoch 88/100\n",
            "100/100 [==============================] - 28s 283ms/step - loss: 0.0467 - acc: 0.9868 - val_loss: 0.3299 - val_acc: 0.9290\n",
            "Epoch 89/100\n",
            "100/100 [==============================] - 28s 284ms/step - loss: 0.0193 - acc: 0.9914 - val_loss: 0.2257 - val_acc: 0.9460\n",
            "Epoch 90/100\n",
            "100/100 [==============================] - 29s 285ms/step - loss: 0.0210 - acc: 0.9930 - val_loss: 0.3391 - val_acc: 0.9270\n",
            "Epoch 91/100\n",
            "100/100 [==============================] - 28s 282ms/step - loss: 0.0141 - acc: 0.9942 - val_loss: 0.3005 - val_acc: 0.9370\n",
            "Epoch 92/100\n",
            "100/100 [==============================] - 28s 284ms/step - loss: 0.0301 - acc: 0.9893 - val_loss: 0.3714 - val_acc: 0.9250\n",
            "Epoch 93/100\n",
            "100/100 [==============================] - 28s 283ms/step - loss: 0.0222 - acc: 0.9911 - val_loss: 0.2658 - val_acc: 0.9450\n",
            "Epoch 94/100\n",
            "100/100 [==============================] - 28s 284ms/step - loss: 0.0151 - acc: 0.9933 - val_loss: 0.2591 - val_acc: 0.9400\n",
            "Epoch 95/100\n",
            "100/100 [==============================] - 28s 283ms/step - loss: 0.0138 - acc: 0.9961 - val_loss: 0.2548 - val_acc: 0.9470\n",
            "Epoch 96/100\n",
            "100/100 [==============================] - 28s 282ms/step - loss: 0.0145 - acc: 0.9948 - val_loss: 0.2504 - val_acc: 0.9390\n",
            "Epoch 97/100\n",
            "100/100 [==============================] - 28s 284ms/step - loss: 0.0133 - acc: 0.9952 - val_loss: 0.2810 - val_acc: 0.9370\n",
            "Epoch 98/100\n",
            "100/100 [==============================] - 28s 284ms/step - loss: 0.0156 - acc: 0.9944 - val_loss: 0.2646 - val_acc: 0.9410\n",
            "Epoch 99/100\n",
            "100/100 [==============================] - 28s 283ms/step - loss: 0.0221 - acc: 0.9901 - val_loss: 0.3514 - val_acc: 0.9270\n",
            "Epoch 100/100\n",
            "100/100 [==============================] - 28s 282ms/step - loss: 0.0273 - acc: 0.9880 - val_loss: 0.2806 - val_acc: 0.9380\n"
          ],
          "name": "stdout"
        }
      ]
    },
    {
      "cell_type": "code",
      "metadata": {
        "colab": {
          "base_uri": "https://localhost:8080/",
          "height": 545
        },
        "id": "voGErj-tfGVb",
        "outputId": "dac9f48b-1cc1-49da-f4b7-779d672fd1ce"
      },
      "source": [
        "acc = history.history['acc']\n",
        "val_acc = history.history['val_acc']\n",
        "loss = history.history['loss']\n",
        "val_loss = history.history['val_loss']\n",
        "\n",
        "epochs = range(len(acc))\n",
        "\n",
        "plt.plot(epochs, acc, 'bo', label='Training acc')\n",
        "plt.plot(epochs, val_acc, 'b', label='Validation acc')\n",
        "plt.title('Training and validation accuracy')\n",
        "plt.legend()\n",
        "\n",
        "plt.figure()\n",
        "\n",
        "plt.plot(epochs, loss, 'bo', label='Training loss')\n",
        "plt.plot(epochs, val_loss, 'b', label='Validation loss')\n",
        "plt.title('Training and validation loss')\n",
        "plt.legend()\n",
        "\n",
        "plt.show()"
      ],
      "execution_count": 32,
      "outputs": [
        {
          "output_type": "display_data",
          "data": {
            "image/png": "[encoded data removed]",
            "text/plain": [
              "<Figure size 432x288 with 1 Axes>"
            ]
          },
          "metadata": {
            "tags": [],
            "needs_background": "light"
          }
        },
        {
          "output_type": "display_data",
          "data": {
            "image/png": "[encoded data removed]",
            "text/plain": [
              "<Figure size 432x288 with 1 Axes>"
            ]
          },
          "metadata": {
            "tags": [],
            "needs_background": "light"
          }
        }
      ]
    },
    {
      "cell_type": "markdown",
      "metadata": {
        "id": "3hIG6e60qMdk"
      },
      "source": [
        "These curves look very noisy. To make them more readable, we can smooth them by replacing every loss and accuracy with exponential moving averages of these quantities. Here's a trivial utility function to do this:"
      ]
    },
    {
      "cell_type": "code",
      "metadata": {
        "id": "IvwMsVzfqBue"
      },
      "source": [
        "def smooth_curve(points, factor=0.8):\n",
        "  smoothed_points = []\n",
        "  for point in points:\n",
        "    if smoothed_points:\n",
        "      previous = smoothed_points[-1]\n",
        "      smoothed_points.append(previous * factor + point * (1 - factor))\n",
        "    else:\n",
        "      smoothed_points.append(point)\n",
        "  return smoothed_points"
      ],
      "execution_count": 33,
      "outputs": []
    },
    {
      "cell_type": "code",
      "metadata": {
        "colab": {
          "base_uri": "https://localhost:8080/",
          "height": 545
        },
        "id": "OeRzfcsfqNvG",
        "outputId": "9ddf36e2-e698-491a-a430-c63d1091941f"
      },
      "source": [
        "plt.plot(epochs,\n",
        "         smooth_curve(acc), 'bo', label='Smoothed training acc')\n",
        "plt.plot(epochs,\n",
        "         smooth_curve(val_acc), 'b', label='Smoothed validation acc')\n",
        "plt.title('Training and validation accuracy')\n",
        "plt.legend()\n",
        "\n",
        "plt.figure()\n",
        "\n",
        "plt.plot(epochs,\n",
        "         smooth_curve(loss), 'bo', label='Smoothed training loss')\n",
        "plt.plot(epochs,\n",
        "         smooth_curve(val_loss), 'b', label='Smoothed validation loss')\n",
        "plt.title('Training and validation loss')\n",
        "plt.legend()\n",
        "\n",
        "plt.show()"
      ],
      "execution_count": 34,
      "outputs": [
        {
          "output_type": "display_data",
          "data": {
            "image/png": "[encoded data removed]",
            "text/plain": [
              "<Figure size 432x288 with 1 Axes>"
            ]
          },
          "metadata": {
            "tags": [],
            "needs_background": "light"
          }
        },
        {
          "output_type": "display_data",
          "data": {
            "image/png": "[encoded data removed]",
            "text/plain": [
              "<Figure size 432x288 with 1 Axes>"
            ]
          },
          "metadata": {
            "tags": [],
            "needs_background": "light"
          }
        }
      ]
    },
    {
      "cell_type": "markdown",
      "metadata": {
        "id": "4_M4Y4AosCWL"
      },
      "source": [
        "# Test Model on Test Data"
      ]
    },
    {
      "cell_type": "code",
      "metadata": {
        "colab": {
          "base_uri": "https://localhost:8080/"
        },
        "id": "fmvSsXKtrNSX",
        "outputId": "a47b1937-aa54-42fb-95a3-fa746537111b"
      },
      "source": [
        "test_generator = test_datagen.flow_from_directory(test_dir,\n",
        "                                                  target_size=(150, 150),\n",
        "                                                  batch_size=20,\n",
        "                                                  class_mode='binary')"
      ],
      "execution_count": 35,
      "outputs": [
        {
          "output_type": "stream",
          "text": [
            "Found 1000 images belonging to 2 classes.\n"
          ],
          "name": "stdout"
        }
      ]
    },
    {
      "cell_type": "code",
      "metadata": {
        "colab": {
          "base_uri": "https://localhost:8080/"
        },
        "id": "7PAofcP3sSuV",
        "outputId": "8b86b79b-681b-4e63-c710-3615f08c8660"
      },
      "source": [
        "test_loss, test_acc = model.evaluate(test_generator, steps=50)"
      ],
      "execution_count": 38,
      "outputs": [
        {
          "output_type": "stream",
          "text": [
            "50/50 [==============================] - 6s 116ms/step - loss: 0.3236 - acc: 0.9370\n"
          ],
          "name": "stdout"
        }
      ]
    },
    {
      "cell_type": "code",
      "metadata": {
        "colab": {
          "base_uri": "https://localhost:8080/"
        },
        "id": "1uEY0Z82sWtF",
        "outputId": "f4fff608-ec3b-4e56-da44-fec6a21d5997"
      },
      "source": [
        "print('test acc:', test_acc)"
      ],
      "execution_count": 39,
      "outputs": [
        {
          "output_type": "stream",
          "text": [
            "test acc: 0.9369999766349792\n"
          ],
          "name": "stdout"
        }
      ]
    },
    {
      "cell_type": "code",
      "metadata": {
        "id": "4kPPdzz8sZUF"
      },
      "source": [
        ""
      ],
      "execution_count": null,
      "outputs": []
    }
  ]
}