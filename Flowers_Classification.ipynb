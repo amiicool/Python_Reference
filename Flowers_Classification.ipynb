{
  "nbformat": 4,
  "nbformat_minor": 0,
  "metadata": {
    "colab": {
      "name": "Flowers_Classification.ipynb",
      "provenance": [],
      "collapsed_sections": [
        "ucfLhGoFVndL",
        "HhxjE2lAVuae",
        "QKYIL_WgV0mS",
        "r4O4pQ4QV8Oo",
        "mrPuwlgXWbxs",
        "wRxMzzWKVipL",
        "56hxD0ynXiOr",
        "Q7b7n3k_fwby",
        "93D-iP_QXc-e",
        "nVLI-dZvZVL8",
        "TKGWMaZoZlHi",
        "dvk4W7fnaole",
        "uYJ6uiSIVbNa"
      ]
    },
    "kernelspec": {
      "display_name": "Python 3",
      "name": "python3"
    },
    "language_info": {
      "name": "python"
    }
  },
  "cells": [
    {
      "cell_type": "code",
      "metadata": {
        "id": "GlmWDYVXCVkL"
      },
      "source": [
        "from keras import layers\n",
        "from keras import models\n",
        "from keras import optimizers\n",
        "import matplotlib.pyplot as plt\n",
        "import os, shutil\n",
        "import numpy as np\n",
        "from keras.preprocessing.image import ImageDataGenerator\n",
        "from keras import models\n",
        "from keras import layers\n",
        "from keras import optimizers\n",
        "from keras import applications"
      ],
      "execution_count": 1,
      "outputs": []
    },
    {
      "cell_type": "markdown",
      "metadata": {
        "id": "yoivJ18JIIfo"
      },
      "source": [
        "> `Topic`\n",
        "## <font color='white'> Creating Covnet for Small DataSet of MultiClass Flower Classification Problem"
      ]
    },
    {
      "cell_type": "markdown",
      "metadata": {
        "id": "ucfLhGoFVndL"
      },
      "source": [
        "### Create Required Directories"
      ]
    },
    {
      "cell_type": "code",
      "metadata": {
        "id": "-_zCRijDCcmb"
      },
      "source": [
        "original_dataset_dir = 'drive/MyDrive/flowers'\n",
        "\n",
        "# New Directory to Store Train/Test/Validation Splits\n",
        "base_dir = 'drive/MyDrive/flowers2'\n",
        "#os.mkdir(base_dir)\n",
        "\n",
        "# Directories for our main training, validation and test splits\n",
        "train_dir = os.path.join(base_dir, 'train')\n",
        "#os.mkdir(train_dir)\n",
        "validation_dir = os.path.join(base_dir, 'validation')\n",
        "#os.mkdir(validation_dir)\n",
        "test_dir = os.path.join(base_dir, 'test')\n",
        "#os.mkdir(test_dir)\n",
        "\n",
        "# Directory with our training daisy pictures\n",
        "train_daisy_dir = os.path.join(train_dir, 'daisy')\n",
        "#os.mkdir(train_daisy_dir)\n",
        "# Directory with our training dandelion pictures\n",
        "train_dandelion_dir = os.path.join(train_dir, 'dandelion')\n",
        "#os.mkdir(train_dandelion_dir)\n",
        "# Directory with our training rose pictures\n",
        "train_rose_dir = os.path.join(train_dir, 'rose')\n",
        "#os.mkdir(train_rose_dir)\n",
        "# Directory with our training sunflower pictures\n",
        "train_sunflower_dir = os.path.join(train_dir, 'sunflower')\n",
        "#os.mkdir(train_sunflower_dir)\n",
        "# Directory with our training tulip pictures\n",
        "train_tulip_dir = os.path.join(train_dir, 'tulip')\n",
        "#os.mkdir(train_tulip_dir)\n",
        "\n",
        "\n",
        "# Directory with our validation daisy pictures\n",
        "validation_daisy_dir = os.path.join(validation_dir, 'daisy')\n",
        "#os.mkdir(validation_daisy_dir)\n",
        "# Directory with our validation dandelion pictures\n",
        "validation_dandelion_dir = os.path.join(validation_dir, 'dandelion')\n",
        "#os.mkdir(validation_dandelion_dir)\n",
        "# Directory with our validation rose pictures\n",
        "validation_rose_dir = os.path.join(validation_dir, 'rose')\n",
        "#os.mkdir(validation_rose_dir)\n",
        "# Directory with our validation sunflower pictures\n",
        "validation_sunflower_dir = os.path.join(validation_dir, 'sunflower')\n",
        "#os.mkdir(validation_sunflower_dir)\n",
        "# Directory with our validation tulip pictures\n",
        "validation_tulip_dir = os.path.join(validation_dir, 'tulip')\n",
        "#os.mkdir(validation_tulip_dir)\n",
        "\n",
        "\n",
        "# Directory with our test daisy pictures\n",
        "test_daisy_dir = os.path.join(test_dir, 'daisy')\n",
        "#os.mkdir(test_daisy_dir)\n",
        "# Directory with our test dandelion pictures\n",
        "test_dandelion_dir = os.path.join(test_dir, 'dandelion')\n",
        "#os.mkdir(test_dandelion_dir)\n",
        "# Directory with our test rose pictures\n",
        "test_rose_dir = os.path.join(test_dir, 'rose')\n",
        "#os.mkdir(test_rose_dir)\n",
        "# Directory with our test sunflower pictures\n",
        "test_sunflower_dir = os.path.join(test_dir, 'sunflower')\n",
        "#os.mkdir(test_sunflower_dir)\n",
        "# Directory with our test tulip pictures\n",
        "test_tulip_dir = os.path.join(test_dir, 'tulip')\n",
        "#os.mkdir(test_tulip_dir)"
      ],
      "execution_count": 2,
      "outputs": []
    },
    {
      "cell_type": "markdown",
      "metadata": {
        "id": "HhxjE2lAVuae"
      },
      "source": [
        "### Calculate count of Pictures in each category and set train/test/valdation ratio"
      ]
    },
    {
      "cell_type": "code",
      "metadata": {
        "id": "OqtCG8zXF7xf"
      },
      "source": [
        "# Train, Test, Validation Ratio\n",
        "train_r = 0.6\n",
        "test_r = 0.2\n",
        "validation_r = 0.2\n",
        "\n",
        "c_daisy = len(os.listdir(original_dataset_dir+'/daisy'))\n",
        "c_dandelion = len(os.listdir(original_dataset_dir+'/dandelion'))\n",
        "c_rose = len(os.listdir(original_dataset_dir+'/rose'))\n",
        "c_sunflower = len(os.listdir(original_dataset_dir+'/sunflower'))\n",
        "c_tulip = len(os.listdir(original_dataset_dir+'/tulip'))\n",
        "\n",
        "c_daisy_train = round(c_daisy * train_r)\n",
        "c_daisy_test = round(c_daisy * test_r)\n",
        "c_daisy_val = round(c_daisy * validation_r)\n",
        "\n",
        "c_dandelion_train = round(c_dandelion * train_r)+1\n",
        "c_dandelion_test = round(c_dandelion * test_r)\n",
        "c_dandelion_val = round(c_dandelion * validation_r)\n",
        "\n",
        "c_rose_train = round(c_rose * train_r)\n",
        "c_rose_test = round(c_rose * test_r)\n",
        "c_rose_val = round(c_rose * validation_r)\n",
        "\n",
        "c_sunflower_train = round(c_sunflower * train_r)\n",
        "c_sunflower_test = round(c_sunflower * test_r)\n",
        "c_sunflower_val = round(c_sunflower * validation_r)\n",
        "\n",
        "c_tulip_train = round(c_tulip * train_r)\n",
        "c_tulip_test = round(c_tulip * test_r)\n",
        "c_tulip_val = round(c_tulip * validation_r)"
      ],
      "execution_count": null,
      "outputs": []
    },
    {
      "cell_type": "markdown",
      "metadata": {
        "id": "QKYIL_WgV0mS"
      },
      "source": [
        "### Copy files from source to Destination directories"
      ]
    },
    {
      "cell_type": "code",
      "metadata": {
        "id": "9jIwSIa8HGcJ"
      },
      "source": [
        "# # Diasy Files Copy\n",
        "# l_daisy = os.listdir(original_dataset_dir+'/daisy')\n",
        "\n",
        "# for i in l_daisy[0:c_daisy_train]:\n",
        "#   src = os.path.join(original_dataset_dir,'daisy', i)\n",
        "#   dst = os.path.join(train_dir,'daisy', i)\n",
        "#   shutil.copyfile(src, dst)\n",
        "\n",
        "# for i in l_daisy[c_daisy_train : c_daisy_train + c_daisy_test]:\n",
        "#   src = os.path.join(original_dataset_dir,'daisy', i)\n",
        "#   dst = os.path.join(test_dir,'daisy', i)\n",
        "#   shutil.copyfile(src, dst)\n",
        "\n",
        "# for i in l_daisy[c_daisy_train + c_daisy_test : c_daisy_train + c_daisy_test + c_daisy_val]:\n",
        "#   src = os.path.join(original_dataset_dir,'daisy', i)\n",
        "#   dst = os.path.join(validation_dir,'daisy', i)\n",
        "#   shutil.copyfile(src, dst)\n",
        "\n",
        "\n",
        "# # Dandelion Files Copy\n",
        "# l_dandelion = os.listdir(original_dataset_dir+'/dandelion')\n",
        "\n",
        "# for i in l_dandelion[0:c_dandelion_train]:\n",
        "#   src = os.path.join(original_dataset_dir,'dandelion', i)\n",
        "#   dst = os.path.join(train_dir,'dandelion', i)\n",
        "#   shutil.copyfile(src, dst)\n",
        "\n",
        "# for i in l_dandelion[c_dandelion_train : c_dandelion_train + c_dandelion_test]:\n",
        "#   src = os.path.join(original_dataset_dir,'dandelion', i)\n",
        "#   dst = os.path.join(test_dir,'dandelion', i)\n",
        "#   shutil.copyfile(src, dst)\n",
        "\n",
        "# for i in l_dandelion[c_dandelion_train + c_dandelion_test : c_dandelion_train + c_dandelion_test + c_dandelion_val]:\n",
        "#   src = os.path.join(original_dataset_dir,'dandelion', i)\n",
        "#   dst = os.path.join(validation_dir,'dandelion', i)\n",
        "#   shutil.copyfile(src, dst)\n",
        "\n",
        "\n",
        "# # Rose Files Copy\n",
        "# l_rose = os.listdir(original_dataset_dir+'/rose')\n",
        "\n",
        "# for i in l_rose[0:c_rose_train]:\n",
        "#   src = os.path.join(original_dataset_dir,'rose', i)\n",
        "#   dst = os.path.join(train_dir,'rose', i)\n",
        "#   shutil.copyfile(src, dst)\n",
        "\n",
        "# for i in l_rose[c_rose_train : c_rose_train + c_rose_test]:\n",
        "#   src = os.path.join(original_dataset_dir,'rose', i)\n",
        "#   dst = os.path.join(test_dir,'rose', i)\n",
        "#   shutil.copyfile(src, dst)\n",
        "\n",
        "# for i in l_rose[c_rose_train + c_rose_test : c_rose_train + c_rose_test + c_rose_val]:\n",
        "#   src = os.path.join(original_dataset_dir,'rose', i)\n",
        "#   dst = os.path.join(validation_dir,'rose', i)\n",
        "#   shutil.copyfile(src, dst)\n",
        "\n",
        "\n",
        "# # Sunflower Files Copy\n",
        "# l_sunflower = os.listdir(original_dataset_dir+'/sunflower')\n",
        "\n",
        "# for i in l_sunflower[0:c_sunflower_train]:\n",
        "#   src = os.path.join(original_dataset_dir,'sunflower', i)\n",
        "#   dst = os.path.join(train_dir,'sunflower', i)\n",
        "#   shutil.copyfile(src, dst)\n",
        "\n",
        "# for i in l_sunflower[c_sunflower_train : c_sunflower_train + c_sunflower_test]:\n",
        "#   src = os.path.join(original_dataset_dir,'sunflower', i)\n",
        "#   dst = os.path.join(test_dir,'sunflower', i)\n",
        "#   shutil.copyfile(src, dst)\n",
        "\n",
        "# for i in l_sunflower[c_sunflower_train + c_sunflower_test : c_sunflower_train + c_sunflower_test + c_sunflower_val]:\n",
        "#   src = os.path.join(original_dataset_dir,'sunflower', i)\n",
        "#   dst = os.path.join(validation_dir,'sunflower', i)\n",
        "#   shutil.copyfile(src, dst)\n",
        "\n",
        "\n",
        "\n",
        "# # Tulip Files Copy\n",
        "# l_tulip = os.listdir(original_dataset_dir+'/tulip')\n",
        "\n",
        "# for i in l_tulip[0:c_tulip_train]:\n",
        "#   src = os.path.join(original_dataset_dir,'tulip', i)\n",
        "#   dst = os.path.join(train_dir,'tulip', i)\n",
        "#   shutil.copyfile(src, dst)\n",
        "\n",
        "# for i in l_tulip[c_tulip_train : c_tulip_train + c_tulip_test]:\n",
        "#   src = os.path.join(original_dataset_dir,'tulip', i)\n",
        "#   dst = os.path.join(test_dir,'tulip', i)\n",
        "#   shutil.copyfile(src, dst)\n",
        "\n",
        "# for i in l_tulip[c_tulip_train + c_tulip_test : c_tulip_train + c_tulip_test + c_tulip_val]:\n",
        "#   src = os.path.join(original_dataset_dir,'tulip', i)\n",
        "#   dst = os.path.join(validation_dir,'tulip', i)\n",
        "#   shutil.copyfile(src, dst)"
      ],
      "execution_count": null,
      "outputs": []
    },
    {
      "cell_type": "markdown",
      "metadata": {
        "id": "r4O4pQ4QV8Oo"
      },
      "source": [
        "### Check if count of files copied for each category are correct"
      ]
    },
    {
      "cell_type": "code",
      "metadata": {
        "colab": {
          "base_uri": "https://localhost:8080/"
        },
        "id": "J-020MfSQWOp",
        "outputId": "a842949c-7ff6-4697-fc7d-28862f8c3ce3"
      },
      "source": [
        "print(len(os.listdir(train_dir+'/daisy')) + len(os.listdir(test_dir+'/daisy')) + len(os.listdir(validation_dir+'/daisy')))\n",
        "print(len(os.listdir(train_dir+'/dandelion')) + len(os.listdir(test_dir+'/dandelion')) + len(os.listdir(validation_dir+'/dandelion')))\n",
        "print(len(os.listdir(train_dir+'/rose')) + len(os.listdir(test_dir+'/rose')) + len(os.listdir(validation_dir+'/rose')))\n",
        "print(len(os.listdir(train_dir+'/sunflower')) + len(os.listdir(test_dir+'/sunflower')) + len(os.listdir(validation_dir+'/sunflower')))\n",
        "print(len(os.listdir(train_dir+'/tulip')) + len(os.listdir(test_dir+'/tulip')) + len(os.listdir(validation_dir+'/tulip')))"
      ],
      "execution_count": null,
      "outputs": [
        {
          "output_type": "stream",
          "text": [
            "769\n",
            "1052\n",
            "784\n",
            "734\n",
            "984\n"
          ],
          "name": "stdout"
        }
      ]
    },
    {
      "cell_type": "markdown",
      "metadata": {
        "id": "mrPuwlgXWbxs"
      },
      "source": [
        "### Data Preprocessing"
      ]
    },
    {
      "cell_type": "code",
      "metadata": {
        "id": "7ZZFd43dWfYH"
      },
      "source": [
        "# All images will be rescaled by 1./255\n",
        "train_datagen = ImageDataGenerator(rescale=1./255)\n",
        "test_datagen = ImageDataGenerator(rescale=1./255)"
      ],
      "execution_count": null,
      "outputs": []
    },
    {
      "cell_type": "code",
      "metadata": {
        "colab": {
          "base_uri": "https://localhost:8080/"
        },
        "id": "_gtlo5qtWzDN",
        "outputId": "fe512f3b-1d47-4e79-9705-8e55f8eca6c9"
      },
      "source": [
        "train_generator = train_datagen.flow_from_directory(\n",
        "        # This is the target directory\n",
        "        train_dir,\n",
        "        # All images will be resized to 150x150\n",
        "        target_size=(150, 150),\n",
        "        batch_size=20,\n",
        "        # Since we use binary_crossentropy loss, we need binary labels\n",
        "        class_mode='categorical')\n",
        "\n",
        "validation_generator = test_datagen.flow_from_directory(\n",
        "        validation_dir,\n",
        "        target_size=(150, 150),\n",
        "        batch_size=20,\n",
        "        class_mode='categorical')"
      ],
      "execution_count": null,
      "outputs": [
        {
          "output_type": "stream",
          "text": [
            "Found 2593 images belonging to 5 classes.\n",
            "Found 865 images belonging to 5 classes.\n"
          ],
          "name": "stdout"
        }
      ]
    },
    {
      "cell_type": "markdown",
      "metadata": {
        "id": "wRxMzzWKVipL"
      },
      "source": [
        "### Build Model"
      ]
    },
    {
      "cell_type": "code",
      "metadata": {
        "id": "LmvJ24xgTPSP"
      },
      "source": [
        "model = models.Sequential()\n",
        "model.add(layers.Conv2D(32, (3, 3), activation='relu',\n",
        "                        input_shape=(150, 150, 3)))\n",
        "model.add(layers.MaxPooling2D((2, 2)))\n",
        "model.add(layers.Conv2D(64, (3, 3), activation='relu'))\n",
        "model.add(layers.MaxPooling2D((2, 2)))\n",
        "model.add(layers.Conv2D(128, (3, 3), activation='relu'))\n",
        "model.add(layers.MaxPooling2D((2, 2)))\n",
        "model.add(layers.Conv2D(128, (3, 3), activation='relu'))\n",
        "model.add(layers.MaxPooling2D((2, 2)))\n",
        "model.add(layers.Flatten())\n",
        "model.add(layers.Dense(512, activation='relu'))\n",
        "model.add(layers.Dense(5, activation='softmax'))"
      ],
      "execution_count": null,
      "outputs": []
    },
    {
      "cell_type": "code",
      "metadata": {
        "id": "kWb194zHVlAt"
      },
      "source": [
        "model.compile(loss='categorical_crossentropy',\n",
        "              optimizer=optimizers.RMSprop(lr=1e-4),\n",
        "              metrics=['acc'])"
      ],
      "execution_count": null,
      "outputs": []
    },
    {
      "cell_type": "markdown",
      "metadata": {
        "id": "56hxD0ynXiOr"
      },
      "source": [
        "### Run Model"
      ]
    },
    {
      "cell_type": "code",
      "metadata": {
        "colab": {
          "base_uri": "https://localhost:8080/"
        },
        "id": "8NI1WHqvWSLw",
        "outputId": "278244cb-1164-4571-90c9-81493de31ac1"
      },
      "source": [
        "history = model.fit(\n",
        "      train_generator,\n",
        "      steps_per_epoch=50,\n",
        "      epochs=30,\n",
        "      validation_data=validation_generator,\n",
        "      validation_steps=25)"
      ],
      "execution_count": null,
      "outputs": [
        {
          "output_type": "stream",
          "text": [
            "Epoch 1/30\n",
            "50/50 [==============================] - 49s 971ms/step - loss: 1.5690 - acc: 0.2851 - val_loss: 1.3765 - val_acc: 0.3920\n",
            "Epoch 2/30\n",
            "50/50 [==============================] - 49s 973ms/step - loss: 1.3135 - acc: 0.4202 - val_loss: 1.2714 - val_acc: 0.4500\n",
            "Epoch 3/30\n",
            "50/50 [==============================] - 48s 970ms/step - loss: 1.2217 - acc: 0.4573 - val_loss: 1.1755 - val_acc: 0.5020\n",
            "Epoch 4/30\n",
            "50/50 [==============================] - 49s 972ms/step - loss: 1.1648 - acc: 0.5206 - val_loss: 1.1466 - val_acc: 0.5340\n",
            "Epoch 5/30\n",
            "50/50 [==============================] - 49s 977ms/step - loss: 1.1257 - acc: 0.5361 - val_loss: 1.1046 - val_acc: 0.5420\n",
            "Epoch 6/30\n",
            "50/50 [==============================] - 49s 972ms/step - loss: 1.0610 - acc: 0.5130 - val_loss: 1.0417 - val_acc: 0.5880\n",
            "Epoch 7/30\n",
            "50/50 [==============================] - 49s 976ms/step - loss: 1.1073 - acc: 0.5318 - val_loss: 1.0302 - val_acc: 0.5960\n",
            "Epoch 8/30\n",
            "50/50 [==============================] - 48s 970ms/step - loss: 1.0632 - acc: 0.5750 - val_loss: 1.0539 - val_acc: 0.5780\n",
            "Epoch 9/30\n",
            "50/50 [==============================] - 48s 968ms/step - loss: 1.0142 - acc: 0.5684 - val_loss: 0.9845 - val_acc: 0.6140\n",
            "Epoch 10/30\n",
            "50/50 [==============================] - 48s 970ms/step - loss: 1.0496 - acc: 0.5554 - val_loss: 0.9726 - val_acc: 0.5940\n",
            "Epoch 11/30\n",
            "50/50 [==============================] - 48s 967ms/step - loss: 1.0364 - acc: 0.5944 - val_loss: 0.9382 - val_acc: 0.6360\n",
            "Epoch 12/30\n",
            "50/50 [==============================] - 48s 965ms/step - loss: 0.9417 - acc: 0.6137 - val_loss: 1.0004 - val_acc: 0.6000\n",
            "Epoch 13/30\n",
            "50/50 [==============================] - 48s 967ms/step - loss: 0.9170 - acc: 0.6578 - val_loss: 1.0149 - val_acc: 0.6040\n",
            "Epoch 14/30\n",
            "50/50 [==============================] - 48s 960ms/step - loss: 0.9754 - acc: 0.6182 - val_loss: 0.9036 - val_acc: 0.6420\n",
            "Epoch 15/30\n",
            "50/50 [==============================] - 48s 968ms/step - loss: 0.9143 - acc: 0.6485 - val_loss: 0.9488 - val_acc: 0.6200\n",
            "Epoch 16/30\n",
            "50/50 [==============================] - 48s 971ms/step - loss: 0.8839 - acc: 0.6604 - val_loss: 0.9536 - val_acc: 0.6240\n",
            "Epoch 17/30\n",
            "50/50 [==============================] - 48s 962ms/step - loss: 0.8937 - acc: 0.6823 - val_loss: 0.9121 - val_acc: 0.6520\n",
            "Epoch 18/30\n",
            "50/50 [==============================] - 48s 965ms/step - loss: 0.8427 - acc: 0.6727 - val_loss: 0.9037 - val_acc: 0.6300\n",
            "Epoch 19/30\n",
            "50/50 [==============================] - 48s 967ms/step - loss: 0.8620 - acc: 0.6699 - val_loss: 0.8168 - val_acc: 0.6800\n",
            "Epoch 20/30\n",
            "50/50 [==============================] - 48s 970ms/step - loss: 0.8108 - acc: 0.6843 - val_loss: 1.0883 - val_acc: 0.5580\n",
            "Epoch 21/30\n",
            "50/50 [==============================] - 48s 968ms/step - loss: 0.8385 - acc: 0.6608 - val_loss: 1.0725 - val_acc: 0.5840\n",
            "Epoch 22/30\n",
            "50/50 [==============================] - 49s 971ms/step - loss: 0.8462 - acc: 0.6782 - val_loss: 0.8754 - val_acc: 0.6720\n",
            "Epoch 23/30\n",
            "50/50 [==============================] - 48s 970ms/step - loss: 0.7383 - acc: 0.7361 - val_loss: 0.9191 - val_acc: 0.6360\n",
            "Epoch 24/30\n",
            "50/50 [==============================] - 48s 969ms/step - loss: 0.7404 - acc: 0.7300 - val_loss: 0.9222 - val_acc: 0.6340\n",
            "Epoch 25/30\n",
            "50/50 [==============================] - 48s 969ms/step - loss: 0.7295 - acc: 0.7151 - val_loss: 0.9434 - val_acc: 0.6500\n",
            "Epoch 26/30\n",
            "50/50 [==============================] - 48s 965ms/step - loss: 0.7121 - acc: 0.7215 - val_loss: 0.8701 - val_acc: 0.6500\n",
            "Epoch 27/30\n",
            "50/50 [==============================] - 48s 970ms/step - loss: 0.6919 - acc: 0.7411 - val_loss: 0.8956 - val_acc: 0.6720\n",
            "Epoch 28/30\n",
            "50/50 [==============================] - 48s 969ms/step - loss: 0.7329 - acc: 0.7129 - val_loss: 0.8379 - val_acc: 0.6620\n",
            "Epoch 29/30\n",
            "50/50 [==============================] - 48s 969ms/step - loss: 0.6935 - acc: 0.7324 - val_loss: 0.9712 - val_acc: 0.6520\n",
            "Epoch 30/30\n",
            "50/50 [==============================] - 48s 969ms/step - loss: 0.6311 - acc: 0.7665 - val_loss: 0.8899 - val_acc: 0.6660\n"
          ],
          "name": "stdout"
        }
      ]
    },
    {
      "cell_type": "code",
      "metadata": {
        "id": "HIYJHlHtXZz3",
        "colab": {
          "base_uri": "https://localhost:8080/",
          "height": 545
        },
        "outputId": "f18d600f-da37-4633-9215-1f8fbcb9134a"
      },
      "source": [
        "acc = history.history['acc']\n",
        "val_acc = history.history['val_acc']\n",
        "loss = history.history['loss']\n",
        "val_loss = history.history['val_loss']\n",
        "\n",
        "epochs = range(len(acc))\n",
        "\n",
        "plt.plot(epochs, acc, 'bo', label='Training acc')\n",
        "plt.plot(epochs, val_acc, 'b', label='Validation acc')\n",
        "plt.title('Training and validation accuracy')\n",
        "plt.legend()\n",
        "\n",
        "plt.figure()\n",
        "\n",
        "plt.plot(epochs, loss, 'bo', label='Training loss')\n",
        "plt.plot(epochs, val_loss, 'b', label='Validation loss')\n",
        "plt.title('Training and validation loss')\n",
        "plt.legend()\n",
        "\n",
        "plt.show()"
      ],
      "execution_count": null,
      "outputs": [
        {
          "output_type": "display_data",
          "data": {
            "image/png": "[encoded data removed]",
            "text/plain": [
              "<Figure size 432x288 with 1 Axes>"
            ]
          },
          "metadata": {
            "tags": [],
            "needs_background": "light"
          }
        },
        {
          "output_type": "display_data",
          "data": {
            "image/png": "[encoded data removed]",
            "text/plain": [
              "<Figure size 432x288 with 1 Axes>"
            ]
          },
          "metadata": {
            "tags": [],
            "needs_background": "light"
          }
        }
      ]
    },
    {
      "cell_type": "markdown",
      "metadata": {
        "id": "Q7b7n3k_fwby"
      },
      "source": [
        "> `Topic`\n",
        "## <font color='white'> Use Data Augmentation to improve Accuracy and Overfitting"
      ]
    },
    {
      "cell_type": "code",
      "metadata": {
        "colab": {
          "base_uri": "https://localhost:8080/"
        },
        "id": "KPVlneXPgCNp",
        "outputId": "60181745-4295-44aa-ad48-46d2271ba09b"
      },
      "source": [
        "train_datagen = ImageDataGenerator(\n",
        "    rescale=1./255,\n",
        "    rotation_range=40,\n",
        "    width_shift_range=0.2,\n",
        "    height_shift_range=0.2,\n",
        "    shear_range=0.2,\n",
        "    zoom_range=0.2,\n",
        "    horizontal_flip=True,)\n",
        "\n",
        "# Note that the validation data should not be augmented!\n",
        "test_datagen = ImageDataGenerator(rescale=1./255)\n",
        "\n",
        "train_generator = train_datagen.flow_from_directory(\n",
        "        # This is the target directory\n",
        "        train_dir,\n",
        "        # All images will be resized to 150x150\n",
        "        target_size=(150, 150),\n",
        "        batch_size=32,\n",
        "        # Since we use binary_crossentropy loss, we need binary labels\n",
        "        class_mode='categorical')\n",
        "\n",
        "validation_generator = test_datagen.flow_from_directory(\n",
        "        validation_dir,\n",
        "        target_size=(150, 150),\n",
        "        batch_size=32,\n",
        "        class_mode='categorical')"
      ],
      "execution_count": null,
      "outputs": [
        {
          "output_type": "stream",
          "text": [
            "Found 2593 images belonging to 5 classes.\n",
            "Found 865 images belonging to 5 classes.\n"
          ],
          "name": "stdout"
        }
      ]
    },
    {
      "cell_type": "code",
      "metadata": {
        "id": "g1_ohEo_f6JZ"
      },
      "source": [
        "model = models.Sequential()\n",
        "model.add(layers.Conv2D(32, (3, 3), activation='relu', input_shape=(150, 150, 3)))\n",
        "model.add(layers.MaxPooling2D((2, 2)))\n",
        "model.add(layers.Conv2D(64, (3, 3), activation='relu'))\n",
        "model.add(layers.MaxPooling2D((2, 2)))\n",
        "model.add(layers.Conv2D(128, (3, 3), activation='relu'))\n",
        "model.add(layers.MaxPooling2D((2, 2)))\n",
        "model.add(layers.Conv2D(128, (3, 3), activation='relu'))\n",
        "model.add(layers.MaxPooling2D((2, 2)))\n",
        "model.add(layers.Flatten())\n",
        "model.add(layers.Dropout(0.5))\n",
        "model.add(layers.Dense(512, activation='relu'))\n",
        "model.add(layers.Dense(5, activation='softmax'))"
      ],
      "execution_count": null,
      "outputs": []
    },
    {
      "cell_type": "code",
      "metadata": {
        "id": "6dn5rO2AgAgC"
      },
      "source": [
        "model.compile(loss='categorical_crossentropy',\n",
        "              optimizer=optimizers.RMSprop(lr=1e-4),\n",
        "              metrics=['acc'])"
      ],
      "execution_count": null,
      "outputs": []
    },
    {
      "cell_type": "code",
      "metadata": {
        "colab": {
          "base_uri": "https://localhost:8080/"
        },
        "id": "9TK6SsoSgRIM",
        "outputId": "ad44be85-67fb-4054-b22b-338a92fe1f3b"
      },
      "source": [
        "history = model.fit(\n",
        "      train_generator,\n",
        "      steps_per_epoch=50,\n",
        "      epochs=100,\n",
        "      validation_data=validation_generator,\n",
        "      validation_steps=25)"
      ],
      "execution_count": null,
      "outputs": [
        {
          "output_type": "stream",
          "text": [
            "Epoch 1/100\n",
            "50/50 [==============================] - 807s 16s/step - loss: 1.5677 - acc: 0.2597 - val_loss: 1.3289 - val_acc: 0.4650\n",
            "Epoch 2/100\n",
            "50/50 [==============================] - 227s 5s/step - loss: 1.3166 - acc: 0.4344 - val_loss: 1.1827 - val_acc: 0.5000\n",
            "Epoch 3/100\n",
            "50/50 [==============================] - 122s 2s/step - loss: 1.2659 - acc: 0.4324 - val_loss: 1.1363 - val_acc: 0.5188\n",
            "Epoch 4/100\n",
            "50/50 [==============================] - 98s 2s/step - loss: 1.2414 - acc: 0.4707 - val_loss: 1.0918 - val_acc: 0.5638\n",
            "Epoch 5/100\n",
            "50/50 [==============================] - 94s 2s/step - loss: 1.2049 - acc: 0.4876 - val_loss: 1.1076 - val_acc: 0.5275\n",
            "Epoch 6/100\n",
            "50/50 [==============================] - 95s 2s/step - loss: 1.1526 - acc: 0.5278 - val_loss: 1.1453 - val_acc: 0.5437\n",
            "Epoch 7/100\n",
            "50/50 [==============================] - 94s 2s/step - loss: 1.1653 - acc: 0.5050 - val_loss: 1.0238 - val_acc: 0.6000\n",
            "Epoch 8/100\n",
            "50/50 [==============================] - 93s 2s/step - loss: 1.1118 - acc: 0.5448 - val_loss: 1.0389 - val_acc: 0.5750\n",
            "Epoch 9/100\n",
            "50/50 [==============================] - 94s 2s/step - loss: 1.1080 - acc: 0.5329 - val_loss: 1.0508 - val_acc: 0.5813\n",
            "Epoch 10/100\n",
            "50/50 [==============================] - 93s 2s/step - loss: 1.0900 - acc: 0.5422 - val_loss: 1.6604 - val_acc: 0.3150\n",
            "Epoch 11/100\n",
            "50/50 [==============================] - 93s 2s/step - loss: 1.1163 - acc: 0.5426 - val_loss: 0.9975 - val_acc: 0.6237\n",
            "Epoch 12/100\n",
            "50/50 [==============================] - 95s 2s/step - loss: 1.0608 - acc: 0.5801 - val_loss: 0.9303 - val_acc: 0.6187\n",
            "Epoch 13/100\n",
            "50/50 [==============================] - 94s 2s/step - loss: 1.0492 - acc: 0.5760 - val_loss: 0.9329 - val_acc: 0.6338\n",
            "Epoch 14/100\n",
            "50/50 [==============================] - 94s 2s/step - loss: 1.0204 - acc: 0.5991 - val_loss: 0.9174 - val_acc: 0.6525\n",
            "Epoch 15/100\n",
            "50/50 [==============================] - 94s 2s/step - loss: 0.9919 - acc: 0.6109 - val_loss: 0.9243 - val_acc: 0.6550\n",
            "Epoch 16/100\n",
            "50/50 [==============================] - 93s 2s/step - loss: 0.9947 - acc: 0.6061 - val_loss: 0.9603 - val_acc: 0.6375\n",
            "Epoch 17/100\n",
            "50/50 [==============================] - 93s 2s/step - loss: 0.9727 - acc: 0.5855 - val_loss: 0.8564 - val_acc: 0.6775\n",
            "Epoch 18/100\n",
            "50/50 [==============================] - 94s 2s/step - loss: 0.9958 - acc: 0.6181 - val_loss: 0.8701 - val_acc: 0.6500\n",
            "Epoch 19/100\n",
            "50/50 [==============================] - 94s 2s/step - loss: 0.9420 - acc: 0.6299 - val_loss: 0.8880 - val_acc: 0.6450\n",
            "Epoch 20/100\n",
            "50/50 [==============================] - 93s 2s/step - loss: 0.9467 - acc: 0.6418 - val_loss: 0.9134 - val_acc: 0.6400\n",
            "Epoch 21/100\n",
            "50/50 [==============================] - 94s 2s/step - loss: 0.9486 - acc: 0.6378 - val_loss: 0.8957 - val_acc: 0.6550\n",
            "Epoch 22/100\n",
            "50/50 [==============================] - 93s 2s/step - loss: 0.9085 - acc: 0.6473 - val_loss: 0.8422 - val_acc: 0.6862\n",
            "Epoch 23/100\n",
            "50/50 [==============================] - 94s 2s/step - loss: 0.9280 - acc: 0.6378 - val_loss: 0.8642 - val_acc: 0.6712\n",
            "Epoch 24/100\n",
            "50/50 [==============================] - 93s 2s/step - loss: 0.8741 - acc: 0.6629 - val_loss: 0.9016 - val_acc: 0.6488\n",
            "Epoch 25/100\n",
            "50/50 [==============================] - 93s 2s/step - loss: 0.9168 - acc: 0.6334 - val_loss: 0.9060 - val_acc: 0.6400\n",
            "Epoch 26/100\n",
            "50/50 [==============================] - 94s 2s/step - loss: 0.8994 - acc: 0.6445 - val_loss: 0.8111 - val_acc: 0.6925\n",
            "Epoch 27/100\n",
            "50/50 [==============================] - 94s 2s/step - loss: 0.8773 - acc: 0.6700 - val_loss: 0.8226 - val_acc: 0.6913\n",
            "Epoch 28/100\n",
            "50/50 [==============================] - 93s 2s/step - loss: 0.8352 - acc: 0.6691 - val_loss: 0.7714 - val_acc: 0.7113\n",
            "Epoch 29/100\n",
            "50/50 [==============================] - 93s 2s/step - loss: 0.8721 - acc: 0.6492 - val_loss: 0.8644 - val_acc: 0.6650\n",
            "Epoch 30/100\n",
            "50/50 [==============================] - 93s 2s/step - loss: 0.8369 - acc: 0.6648 - val_loss: 0.8007 - val_acc: 0.6950\n",
            "Epoch 31/100\n",
            "50/50 [==============================] - 93s 2s/step - loss: 0.8580 - acc: 0.6726 - val_loss: 0.8166 - val_acc: 0.6637\n",
            "Epoch 32/100\n",
            "50/50 [==============================] - 92s 2s/step - loss: 0.8960 - acc: 0.6557 - val_loss: 0.7895 - val_acc: 0.6687\n",
            "Epoch 33/100\n",
            "50/50 [==============================] - 93s 2s/step - loss: 0.8425 - acc: 0.6772 - val_loss: 0.8638 - val_acc: 0.6737\n",
            "Epoch 34/100\n",
            "50/50 [==============================] - 93s 2s/step - loss: 0.8648 - acc: 0.6635 - val_loss: 0.8069 - val_acc: 0.6737\n",
            "Epoch 35/100\n",
            "50/50 [==============================] - 92s 2s/step - loss: 0.8153 - acc: 0.6877 - val_loss: 0.7573 - val_acc: 0.7038\n",
            "Epoch 36/100\n",
            "50/50 [==============================] - 94s 2s/step - loss: 0.8409 - acc: 0.6575 - val_loss: 0.7377 - val_acc: 0.7175\n",
            "Epoch 37/100\n",
            "50/50 [==============================] - 94s 2s/step - loss: 0.8641 - acc: 0.6839 - val_loss: 0.8298 - val_acc: 0.6750\n",
            "Epoch 38/100\n",
            "50/50 [==============================] - 94s 2s/step - loss: 0.7902 - acc: 0.6798 - val_loss: 0.7478 - val_acc: 0.7075\n",
            "Epoch 39/100\n",
            "50/50 [==============================] - 94s 2s/step - loss: 0.8117 - acc: 0.6724 - val_loss: 0.7863 - val_acc: 0.6775\n",
            "Epoch 40/100\n",
            "50/50 [==============================] - 94s 2s/step - loss: 0.8178 - acc: 0.6806 - val_loss: 0.7798 - val_acc: 0.7025\n",
            "Epoch 41/100\n",
            "50/50 [==============================] - 92s 2s/step - loss: 0.8162 - acc: 0.6980 - val_loss: 0.7141 - val_acc: 0.7237\n",
            "Epoch 42/100\n",
            "50/50 [==============================] - 93s 2s/step - loss: 0.7668 - acc: 0.7139 - val_loss: 0.7385 - val_acc: 0.7212\n",
            "Epoch 43/100\n",
            "50/50 [==============================] - 93s 2s/step - loss: 0.7295 - acc: 0.7086 - val_loss: 0.7092 - val_acc: 0.7337\n",
            "Epoch 44/100\n",
            "50/50 [==============================] - 93s 2s/step - loss: 0.7425 - acc: 0.7184 - val_loss: 0.7850 - val_acc: 0.6963\n",
            "Epoch 45/100\n",
            "50/50 [==============================] - 94s 2s/step - loss: 0.8070 - acc: 0.6934 - val_loss: 0.7572 - val_acc: 0.7025\n",
            "Epoch 46/100\n",
            "50/50 [==============================] - 98s 2s/step - loss: 0.8401 - acc: 0.6747 - val_loss: 0.7166 - val_acc: 0.7275\n",
            "Epoch 47/100\n",
            "50/50 [==============================] - 95s 2s/step - loss: 0.7778 - acc: 0.6888 - val_loss: 0.7561 - val_acc: 0.7212\n",
            "Epoch 48/100\n",
            "50/50 [==============================] - 93s 2s/step - loss: 0.7717 - acc: 0.6930 - val_loss: 0.7436 - val_acc: 0.7138\n",
            "Epoch 49/100\n",
            "50/50 [==============================] - 94s 2s/step - loss: 0.7579 - acc: 0.7048 - val_loss: 0.7363 - val_acc: 0.7225\n",
            "Epoch 50/100\n",
            "50/50 [==============================] - 93s 2s/step - loss: 0.7538 - acc: 0.7155 - val_loss: 0.7174 - val_acc: 0.7237\n",
            "Epoch 51/100\n",
            "50/50 [==============================] - 93s 2s/step - loss: 0.7927 - acc: 0.7144 - val_loss: 0.7165 - val_acc: 0.7362\n",
            "Epoch 52/100\n",
            "50/50 [==============================] - 93s 2s/step - loss: 0.7962 - acc: 0.6957 - val_loss: 0.7237 - val_acc: 0.7200\n",
            "Epoch 53/100\n",
            "50/50 [==============================] - 93s 2s/step - loss: 0.7650 - acc: 0.7088 - val_loss: 0.6886 - val_acc: 0.7287\n",
            "Epoch 54/100\n",
            "50/50 [==============================] - 94s 2s/step - loss: 0.7526 - acc: 0.6826 - val_loss: 0.7126 - val_acc: 0.7200\n",
            "Epoch 55/100\n",
            "50/50 [==============================] - 93s 2s/step - loss: 0.7267 - acc: 0.7073 - val_loss: 0.7490 - val_acc: 0.7100\n",
            "Epoch 56/100\n",
            "50/50 [==============================] - 95s 2s/step - loss: 0.7574 - acc: 0.7059 - val_loss: 0.6798 - val_acc: 0.7300\n",
            "Epoch 57/100\n",
            "50/50 [==============================] - 93s 2s/step - loss: 0.7341 - acc: 0.7304 - val_loss: 0.7645 - val_acc: 0.7225\n",
            "Epoch 58/100\n",
            "50/50 [==============================] - 92s 2s/step - loss: 0.7111 - acc: 0.7241 - val_loss: 0.7083 - val_acc: 0.7125\n",
            "Epoch 59/100\n",
            "50/50 [==============================] - 94s 2s/step - loss: 0.7717 - acc: 0.6969 - val_loss: 0.6735 - val_acc: 0.7250\n",
            "Epoch 60/100\n",
            "50/50 [==============================] - 94s 2s/step - loss: 0.7335 - acc: 0.7103 - val_loss: 0.6737 - val_acc: 0.7588\n",
            "Epoch 61/100\n",
            "50/50 [==============================] - 93s 2s/step - loss: 0.7211 - acc: 0.7151 - val_loss: 0.7763 - val_acc: 0.7175\n",
            "Epoch 62/100\n",
            "50/50 [==============================] - 93s 2s/step - loss: 0.6734 - acc: 0.7590 - val_loss: 0.6932 - val_acc: 0.7262\n",
            "Epoch 63/100\n",
            "50/50 [==============================] - 93s 2s/step - loss: 0.7039 - acc: 0.7208 - val_loss: 0.6746 - val_acc: 0.7375\n",
            "Epoch 64/100\n",
            "50/50 [==============================] - 93s 2s/step - loss: 0.7179 - acc: 0.7309 - val_loss: 0.6745 - val_acc: 0.7400\n",
            "Epoch 65/100\n",
            "50/50 [==============================] - 94s 2s/step - loss: 0.7421 - acc: 0.7133 - val_loss: 0.7102 - val_acc: 0.7312\n",
            "Epoch 66/100\n",
            "50/50 [==============================] - 93s 2s/step - loss: 0.7348 - acc: 0.7185 - val_loss: 0.7122 - val_acc: 0.7163\n",
            "Epoch 67/100\n",
            "50/50 [==============================] - 94s 2s/step - loss: 0.6518 - acc: 0.7382 - val_loss: 0.6871 - val_acc: 0.7375\n",
            "Epoch 68/100\n",
            "50/50 [==============================] - 93s 2s/step - loss: 0.6842 - acc: 0.7321 - val_loss: 0.6825 - val_acc: 0.7500\n",
            "Epoch 69/100\n",
            "50/50 [==============================] - 93s 2s/step - loss: 0.6696 - acc: 0.7461 - val_loss: 0.7062 - val_acc: 0.7138\n",
            "Epoch 70/100\n",
            "50/50 [==============================] - 93s 2s/step - loss: 0.6668 - acc: 0.7380 - val_loss: 0.7019 - val_acc: 0.7300\n",
            "Epoch 71/100\n",
            "50/50 [==============================] - 94s 2s/step - loss: 0.6982 - acc: 0.7395 - val_loss: 0.7094 - val_acc: 0.7437\n",
            "Epoch 72/100\n",
            "50/50 [==============================] - 93s 2s/step - loss: 0.7062 - acc: 0.7305 - val_loss: 0.6759 - val_acc: 0.7300\n",
            "Epoch 73/100\n",
            "50/50 [==============================] - 95s 2s/step - loss: 0.6839 - acc: 0.7336 - val_loss: 0.6882 - val_acc: 0.7312\n",
            "Epoch 74/100\n",
            "50/50 [==============================] - 93s 2s/step - loss: 0.6635 - acc: 0.7497 - val_loss: 0.6858 - val_acc: 0.7250\n",
            "Epoch 75/100\n",
            "50/50 [==============================] - 93s 2s/step - loss: 0.6923 - acc: 0.7327 - val_loss: 0.7059 - val_acc: 0.7362\n",
            "Epoch 76/100\n",
            "50/50 [==============================] - 95s 2s/step - loss: 0.6519 - acc: 0.7476 - val_loss: 0.6722 - val_acc: 0.7312\n",
            "Epoch 77/100\n",
            "50/50 [==============================] - 93s 2s/step - loss: 0.7058 - acc: 0.7384 - val_loss: 0.6758 - val_acc: 0.7487\n",
            "Epoch 78/100\n",
            "50/50 [==============================] - 93s 2s/step - loss: 0.6860 - acc: 0.7376 - val_loss: 0.7401 - val_acc: 0.7163\n",
            "Epoch 79/100\n",
            "50/50 [==============================] - 94s 2s/step - loss: 0.6590 - acc: 0.7711 - val_loss: 0.6509 - val_acc: 0.7375\n",
            "Epoch 80/100\n",
            "50/50 [==============================] - 94s 2s/step - loss: 0.6414 - acc: 0.7576 - val_loss: 0.7633 - val_acc: 0.7113\n",
            "Epoch 81/100\n",
            "50/50 [==============================] - 94s 2s/step - loss: 0.6761 - acc: 0.7303 - val_loss: 0.6446 - val_acc: 0.7487\n",
            "Epoch 82/100\n",
            "50/50 [==============================] - 94s 2s/step - loss: 0.6971 - acc: 0.7439 - val_loss: 0.6626 - val_acc: 0.7525\n",
            "Epoch 83/100\n",
            "50/50 [==============================] - 93s 2s/step - loss: 0.6569 - acc: 0.7581 - val_loss: 0.6612 - val_acc: 0.7575\n",
            "Epoch 84/100\n",
            "50/50 [==============================] - 93s 2s/step - loss: 0.6949 - acc: 0.7267 - val_loss: 0.6689 - val_acc: 0.7500\n",
            "Epoch 85/100\n",
            "50/50 [==============================] - 93s 2s/step - loss: 0.6422 - acc: 0.7414 - val_loss: 0.6660 - val_acc: 0.7362\n",
            "Epoch 86/100\n",
            "50/50 [==============================] - 93s 2s/step - loss: 0.6104 - acc: 0.7699 - val_loss: 0.8140 - val_acc: 0.7138\n",
            "Epoch 87/100\n",
            "50/50 [==============================] - 95s 2s/step - loss: 0.6907 - acc: 0.7341 - val_loss: 0.7580 - val_acc: 0.7025\n",
            "Epoch 88/100\n",
            "50/50 [==============================] - 94s 2s/step - loss: 0.6255 - acc: 0.7438 - val_loss: 0.6431 - val_acc: 0.7387\n",
            "Epoch 89/100\n",
            "50/50 [==============================] - 94s 2s/step - loss: 0.6405 - acc: 0.7482 - val_loss: 0.6554 - val_acc: 0.7638\n",
            "Epoch 90/100\n",
            "50/50 [==============================] - 92s 2s/step - loss: 0.6520 - acc: 0.7629 - val_loss: 0.7002 - val_acc: 0.7487\n",
            "Epoch 91/100\n",
            "50/50 [==============================] - 92s 2s/step - loss: 0.6014 - acc: 0.7670 - val_loss: 0.6853 - val_acc: 0.7513\n",
            "Epoch 92/100\n",
            "50/50 [==============================] - 93s 2s/step - loss: 0.6259 - acc: 0.7636 - val_loss: 0.6655 - val_acc: 0.7538\n",
            "Epoch 93/100\n",
            "50/50 [==============================] - 94s 2s/step - loss: 0.6677 - acc: 0.7293 - val_loss: 0.6584 - val_acc: 0.7425\n",
            "Epoch 94/100\n",
            "50/50 [==============================] - 94s 2s/step - loss: 0.5836 - acc: 0.7687 - val_loss: 0.6791 - val_acc: 0.7538\n",
            "Epoch 95/100\n",
            "50/50 [==============================] - 93s 2s/step - loss: 0.6318 - acc: 0.7585 - val_loss: 0.7486 - val_acc: 0.7400\n",
            "Epoch 96/100\n",
            "50/50 [==============================] - 93s 2s/step - loss: 0.6162 - acc: 0.7659 - val_loss: 0.6386 - val_acc: 0.7600\n",
            "Epoch 97/100\n",
            "50/50 [==============================] - 93s 2s/step - loss: 0.6058 - acc: 0.7802 - val_loss: 0.6873 - val_acc: 0.7550\n",
            "Epoch 98/100\n",
            "50/50 [==============================] - 93s 2s/step - loss: 0.5979 - acc: 0.7650 - val_loss: 0.6526 - val_acc: 0.7588\n",
            "Epoch 99/100\n",
            "50/50 [==============================] - 95s 2s/step - loss: 0.6076 - acc: 0.7565 - val_loss: 0.7354 - val_acc: 0.7475\n",
            "Epoch 100/100\n",
            "50/50 [==============================] - 93s 2s/step - loss: 0.6080 - acc: 0.7582 - val_loss: 0.7577 - val_acc: 0.7425\n"
          ],
          "name": "stdout"
        }
      ]
    },
    {
      "cell_type": "code",
      "metadata": {
        "colab": {
          "base_uri": "https://localhost:8080/",
          "height": 545
        },
        "id": "T9YYzwQmgSAY",
        "outputId": "f5c41f9d-a997-4827-94f1-c4ada16d75cd"
      },
      "source": [
        "acc = history.history['acc']\n",
        "val_acc = history.history['val_acc']\n",
        "loss = history.history['loss']\n",
        "val_loss = history.history['val_loss']\n",
        "\n",
        "epochs = range(len(acc))\n",
        "\n",
        "plt.plot(epochs, acc, 'bo', label='Training acc')\n",
        "plt.plot(epochs, val_acc, 'b', label='Validation acc')\n",
        "plt.title('Training and validation accuracy')\n",
        "plt.legend()\n",
        "\n",
        "plt.figure()\n",
        "\n",
        "plt.plot(epochs, loss, 'bo', label='Training loss')\n",
        "plt.plot(epochs, val_loss, 'b', label='Validation loss')\n",
        "plt.title('Training and validation loss')\n",
        "plt.legend()\n",
        "\n",
        "plt.show()"
      ],
      "execution_count": null,
      "outputs": [
        {
          "output_type": "display_data",
          "data": {
            "image/png": "[encoded data removed]",
            "text/plain": [
              "<Figure size 432x288 with 1 Axes>"
            ]
          },
          "metadata": {
            "tags": [],
            "needs_background": "light"
          }
        },
        {
          "output_type": "display_data",
          "data": {
            "image/png": "[encoded data removed]",
            "text/plain": [
              "<Figure size 432x288 with 1 Axes>"
            ]
          },
          "metadata": {
            "tags": [],
            "needs_background": "light"
          }
        }
      ]
    },
    {
      "cell_type": "markdown",
      "metadata": {
        "id": "fQjlMTdsXTVN"
      },
      "source": [
        ">`Topic`\n",
        "## <font color='white'> Using PreTrained Covnet or Transfer Learning"
      ]
    },
    {
      "cell_type": "markdown",
      "metadata": {
        "id": "93D-iP_QXc-e"
      },
      "source": [
        "###### <font color='green'> Load and setup PreTranined CovNet"
      ]
    },
    {
      "cell_type": "code",
      "metadata": {
        "id": "_6BrC0wOl0qf",
        "colab": {
          "base_uri": "https://localhost:8080/"
        },
        "outputId": "4ff030cc-4445-4d3b-e9e3-16f99a0cbca4"
      },
      "source": [
        "conv_base = applications.VGG19(weights = \"imagenet\", include_top=False, input_shape = (150, 150, 3))"
      ],
      "execution_count": 3,
      "outputs": [
        {
          "output_type": "stream",
          "text": [
            "Downloading data from https://storage.googleapis.com/tensorflow/keras-applications/vgg19/vgg19_weights_tf_dim_ordering_tf_kernels_notop.h5\n",
            "80142336/80134624 [==============================] - 0s 0us/step\n"
          ],
          "name": "stdout"
        }
      ]
    },
    {
      "cell_type": "code",
      "metadata": {
        "colab": {
          "base_uri": "https://localhost:8080/"
        },
        "id": "NZYF1p1aXDot",
        "outputId": "fedf7586-34ae-491e-9fe3-9875e4d7a8ef"
      },
      "source": [
        "conv_base.summary()"
      ],
      "execution_count": null,
      "outputs": [
        {
          "output_type": "stream",
          "text": [
            "Model: \"vgg19\"\n",
            "_________________________________________________________________\n",
            "Layer (type)                 Output Shape              Param #   \n",
            "=================================================================\n",
            "input_1 (InputLayer)         [(None, 150, 150, 3)]     0         \n",
            "_________________________________________________________________\n",
            "block1_conv1 (Conv2D)        (None, 150, 150, 64)      1792      \n",
            "_________________________________________________________________\n",
            "block1_conv2 (Conv2D)        (None, 150, 150, 64)      36928     \n",
            "_________________________________________________________________\n",
            "block1_pool (MaxPooling2D)   (None, 75, 75, 64)        0         \n",
            "_________________________________________________________________\n",
            "block2_conv1 (Conv2D)        (None, 75, 75, 128)       73856     \n",
            "_________________________________________________________________\n",
            "block2_conv2 (Conv2D)        (None, 75, 75, 128)       147584    \n",
            "_________________________________________________________________\n",
            "block2_pool (MaxPooling2D)   (None, 37, 37, 128)       0         \n",
            "_________________________________________________________________\n",
            "block3_conv1 (Conv2D)        (None, 37, 37, 256)       295168    \n",
            "_________________________________________________________________\n",
            "block3_conv2 (Conv2D)        (None, 37, 37, 256)       590080    \n",
            "_________________________________________________________________\n",
            "block3_conv3 (Conv2D)        (None, 37, 37, 256)       590080    \n",
            "_________________________________________________________________\n",
            "block3_conv4 (Conv2D)        (None, 37, 37, 256)       590080    \n",
            "_________________________________________________________________\n",
            "block3_pool (MaxPooling2D)   (None, 18, 18, 256)       0         \n",
            "_________________________________________________________________\n",
            "block4_conv1 (Conv2D)        (None, 18, 18, 512)       1180160   \n",
            "_________________________________________________________________\n",
            "block4_conv2 (Conv2D)        (None, 18, 18, 512)       2359808   \n",
            "_________________________________________________________________\n",
            "block4_conv3 (Conv2D)        (None, 18, 18, 512)       2359808   \n",
            "_________________________________________________________________\n",
            "block4_conv4 (Conv2D)        (None, 18, 18, 512)       2359808   \n",
            "_________________________________________________________________\n",
            "block4_pool (MaxPooling2D)   (None, 9, 9, 512)         0         \n",
            "_________________________________________________________________\n",
            "block5_conv1 (Conv2D)        (None, 9, 9, 512)         2359808   \n",
            "_________________________________________________________________\n",
            "block5_conv2 (Conv2D)        (None, 9, 9, 512)         2359808   \n",
            "_________________________________________________________________\n",
            "block5_conv3 (Conv2D)        (None, 9, 9, 512)         2359808   \n",
            "_________________________________________________________________\n",
            "block5_conv4 (Conv2D)        (None, 9, 9, 512)         2359808   \n",
            "_________________________________________________________________\n",
            "block5_pool (MaxPooling2D)   (None, 4, 4, 512)         0         \n",
            "=================================================================\n",
            "Total params: 20,024,384\n",
            "Trainable params: 20,024,384\n",
            "Non-trainable params: 0\n",
            "_________________________________________________________________\n"
          ],
          "name": "stdout"
        }
      ]
    },
    {
      "cell_type": "markdown",
      "metadata": {
        "id": "nVLI-dZvZVL8"
      },
      "source": [
        "###### <font color='green'> a) Using Fast Feature Extraction withOUT Data Augmentation"
      ]
    },
    {
      "cell_type": "code",
      "metadata": {
        "id": "pZMEnJ95XM2u"
      },
      "source": [
        "datagen = ImageDataGenerator(rescale=1./255)\n",
        "batch_size = 20"
      ],
      "execution_count": null,
      "outputs": []
    },
    {
      "cell_type": "code",
      "metadata": {
        "id": "q4zeCxfjXRwN"
      },
      "source": [
        "# Extract Features and Labels from PreTrained Covnet\n",
        "# features matrix size comes from last layer of conv_base i.e. block5_pool (MaxPooling2D) which has output shape of 4,4,512\n",
        "\n",
        "def extract_features(directory, sample_count,lab):\n",
        "    features = np.zeros(shape=(sample_count, 4, 4, 512))\n",
        "    labels = np.zeros(shape=(sample_count,lab))\n",
        "    generator = datagen.flow_from_directory(directory,target_size=(150, 150),batch_size=batch_size,class_mode='categorical')\n",
        "\n",
        "    i = 0\n",
        "    for inputs_batch, labels_batch in generator:\n",
        "        features_batch = conv_base.predict(inputs_batch)\n",
        "        features[i * batch_size : (i + 1) * batch_size] = features_batch\n",
        "        labels[i * batch_size : (i + 1) * batch_size] = labels_batch\n",
        "        i += 1\n",
        "        if i * batch_size >= sample_count:\n",
        "            # Note that since generators yield data indefinitely in a loop,\n",
        "            # we must `break` after every image has been seen once.\n",
        "            break\n",
        "    return features, labels"
      ],
      "execution_count": null,
      "outputs": []
    },
    {
      "cell_type": "code",
      "metadata": {
        "colab": {
          "base_uri": "https://localhost:8080/"
        },
        "id": "JJ8cC30QX0pb",
        "outputId": "e2325107-f479-48fa-c8fb-357d1b8e4e9e"
      },
      "source": [
        "print(len(os.listdir(train_dir+'/daisy')) + len(os.listdir(train_dir+'/dandelion')) +  len(os.listdir(train_dir+'/rose')) + len(os.listdir(train_dir+'/sunflower')) + len(os.listdir(train_dir+'/tulip')))\n",
        "print(len(os.listdir(test_dir+'/daisy')) + len(os.listdir(test_dir+'/dandelion')) +  len(os.listdir(test_dir+'/rose')) + len(os.listdir(test_dir+'/sunflower')) + len(os.listdir(test_dir+'/tulip')))\n",
        "print(len(os.listdir(validation_dir+'/daisy')) + len(os.listdir(validation_dir+'/dandelion')) +  len(os.listdir(validation_dir+'/rose')) + len(os.listdir(validation_dir+'/sunflower')) + len(os.listdir(validation_dir+'/tulip')))"
      ],
      "execution_count": null,
      "outputs": [
        {
          "output_type": "stream",
          "text": [
            "2593\n",
            "865\n",
            "865\n"
          ],
          "name": "stdout"
        }
      ]
    },
    {
      "cell_type": "code",
      "metadata": {
        "colab": {
          "base_uri": "https://localhost:8080/"
        },
        "id": "GYmDTsY2XtTd",
        "outputId": "7726857a-547b-45c6-a1da-fd5e112c9d03"
      },
      "source": [
        "train_features, train_labels = extract_features(train_dir, 2593,5)\n",
        "validation_features, validation_labels = extract_features(validation_dir,865,5)\n",
        "test_features, test_labels = extract_features(test_dir, 865,5)"
      ],
      "execution_count": null,
      "outputs": [
        {
          "output_type": "stream",
          "text": [
            "Found 2593 images belonging to 5 classes.\n",
            "Found 865 images belonging to 5 classes.\n",
            "Found 865 images belonging to 5 classes.\n"
          ],
          "name": "stdout"
        }
      ]
    },
    {
      "cell_type": "markdown",
      "metadata": {
        "id": "E3etcNwIYrBi"
      },
      "source": [
        "The extracted features are currently of shape (samples, 4, 4, 512). To feed them to a densely-connected classifier, first we must flatten them to (samples, 8192):"
      ]
    },
    {
      "cell_type": "code",
      "metadata": {
        "id": "uA4baNAoYktt"
      },
      "source": [
        "train_features = np.reshape(train_features, (2593, 4 * 4 * 512))\n",
        "validation_features = np.reshape(validation_features, (865, 4 * 4 * 512))\n",
        "test_features = np.reshape(test_features, (865, 4 * 4 * 512))"
      ],
      "execution_count": null,
      "outputs": []
    },
    {
      "cell_type": "code",
      "metadata": {
        "id": "TZW1vSrJYtv5"
      },
      "source": [
        "model = models.Sequential()\n",
        "model.add(layers.Dense(256, activation='relu', input_dim=4 * 4 * 512))\n",
        "model.add(layers.Dropout(0.5))\n",
        "model.add(layers.Dense(5, activation='softmax'))"
      ],
      "execution_count": null,
      "outputs": []
    },
    {
      "cell_type": "code",
      "metadata": {
        "id": "22Kx_Zz-ZBA5"
      },
      "source": [
        "model.compile(optimizer=optimizers.RMSprop(lr=2e-5),\n",
        "              loss='categorical_crossentropy',\n",
        "              metrics=['acc'])"
      ],
      "execution_count": null,
      "outputs": []
    },
    {
      "cell_type": "code",
      "metadata": {
        "colab": {
          "base_uri": "https://localhost:8080/"
        },
        "id": "MOle3XUtYv0P",
        "outputId": "311008b8-d9e9-4136-c17a-0fedf4980d00"
      },
      "source": [
        "history = model.fit(train_features, train_labels,\n",
        "                    epochs=30,\n",
        "                    batch_size=20,\n",
        "                    validation_data=(validation_features, validation_labels))"
      ],
      "execution_count": null,
      "outputs": [
        {
          "output_type": "stream",
          "text": [
            "Epoch 1/30\n",
            "130/130 [==============================] - 4s 31ms/step - loss: 1.6928 - acc: 0.2846 - val_loss: 1.2104 - val_acc: 0.5815\n",
            "Epoch 2/30\n",
            "130/130 [==============================] - 3s 24ms/step - loss: 1.2481 - acc: 0.5084 - val_loss: 1.0229 - val_acc: 0.6682\n",
            "Epoch 3/30\n",
            "130/130 [==============================] - 3s 24ms/step - loss: 1.0399 - acc: 0.6146 - val_loss: 0.9098 - val_acc: 0.6786\n",
            "Epoch 4/30\n",
            "130/130 [==============================] - 3s 23ms/step - loss: 0.9458 - acc: 0.6532 - val_loss: 0.8477 - val_acc: 0.7156\n",
            "Epoch 5/30\n",
            "130/130 [==============================] - 3s 24ms/step - loss: 0.8391 - acc: 0.6935 - val_loss: 0.7992 - val_acc: 0.7040\n",
            "Epoch 6/30\n",
            "130/130 [==============================] - 3s 24ms/step - loss: 0.7704 - acc: 0.7309 - val_loss: 0.7780 - val_acc: 0.7179\n",
            "Epoch 7/30\n",
            "130/130 [==============================] - 3s 23ms/step - loss: 0.7525 - acc: 0.7333 - val_loss: 0.7462 - val_acc: 0.7156\n",
            "Epoch 8/30\n",
            "130/130 [==============================] - 3s 23ms/step - loss: 0.6965 - acc: 0.7542 - val_loss: 0.7345 - val_acc: 0.7295\n",
            "Epoch 9/30\n",
            "130/130 [==============================] - 3s 24ms/step - loss: 0.6525 - acc: 0.7792 - val_loss: 0.7175 - val_acc: 0.7272\n",
            "Epoch 10/30\n",
            "130/130 [==============================] - 3s 23ms/step - loss: 0.6233 - acc: 0.7925 - val_loss: 0.7100 - val_acc: 0.7237\n",
            "Epoch 11/30\n",
            "130/130 [==============================] - 3s 23ms/step - loss: 0.6227 - acc: 0.7952 - val_loss: 0.6999 - val_acc: 0.7468\n",
            "Epoch 12/30\n",
            "130/130 [==============================] - 3s 23ms/step - loss: 0.5678 - acc: 0.8119 - val_loss: 0.6903 - val_acc: 0.7353\n",
            "Epoch 13/30\n",
            "130/130 [==============================] - 3s 24ms/step - loss: 0.5512 - acc: 0.8104 - val_loss: 0.6814 - val_acc: 0.7422\n",
            "Epoch 14/30\n",
            "130/130 [==============================] - 3s 23ms/step - loss: 0.5381 - acc: 0.8125 - val_loss: 0.6765 - val_acc: 0.7434\n",
            "Epoch 15/30\n",
            "130/130 [==============================] - 3s 23ms/step - loss: 0.5180 - acc: 0.8234 - val_loss: 0.6760 - val_acc: 0.7503\n",
            "Epoch 16/30\n",
            "130/130 [==============================] - 3s 23ms/step - loss: 0.5064 - acc: 0.8268 - val_loss: 0.6707 - val_acc: 0.7514\n",
            "Epoch 17/30\n",
            "130/130 [==============================] - 3s 23ms/step - loss: 0.5003 - acc: 0.8304 - val_loss: 0.6620 - val_acc: 0.7468\n",
            "Epoch 18/30\n",
            "130/130 [==============================] - 3s 23ms/step - loss: 0.4758 - acc: 0.8420 - val_loss: 0.6594 - val_acc: 0.7514\n",
            "Epoch 19/30\n",
            "130/130 [==============================] - 3s 23ms/step - loss: 0.4410 - acc: 0.8451 - val_loss: 0.6577 - val_acc: 0.7538\n",
            "Epoch 20/30\n",
            "130/130 [==============================] - 3s 23ms/step - loss: 0.4377 - acc: 0.8552 - val_loss: 0.6568 - val_acc: 0.7549\n",
            "Epoch 21/30\n",
            "130/130 [==============================] - 3s 23ms/step - loss: 0.4143 - acc: 0.8733 - val_loss: 0.6602 - val_acc: 0.7503\n",
            "Epoch 22/30\n",
            "130/130 [==============================] - 3s 23ms/step - loss: 0.4109 - acc: 0.8577 - val_loss: 0.6502 - val_acc: 0.7607\n",
            "Epoch 23/30\n",
            "130/130 [==============================] - 3s 23ms/step - loss: 0.4078 - acc: 0.8611 - val_loss: 0.6548 - val_acc: 0.7561\n",
            "Epoch 24/30\n",
            "130/130 [==============================] - 3s 24ms/step - loss: 0.3860 - acc: 0.8779 - val_loss: 0.6465 - val_acc: 0.7618\n",
            "Epoch 25/30\n",
            "130/130 [==============================] - 3s 23ms/step - loss: 0.3749 - acc: 0.8864 - val_loss: 0.6477 - val_acc: 0.7503\n",
            "Epoch 26/30\n",
            "130/130 [==============================] - 3s 24ms/step - loss: 0.3917 - acc: 0.8784 - val_loss: 0.6546 - val_acc: 0.7514\n",
            "Epoch 27/30\n",
            "130/130 [==============================] - 3s 23ms/step - loss: 0.3475 - acc: 0.8891 - val_loss: 0.6437 - val_acc: 0.7676\n",
            "Epoch 28/30\n",
            "130/130 [==============================] - 3s 24ms/step - loss: 0.3512 - acc: 0.8899 - val_loss: 0.6468 - val_acc: 0.7514\n",
            "Epoch 29/30\n",
            "130/130 [==============================] - 3s 23ms/step - loss: 0.3461 - acc: 0.8849 - val_loss: 0.6460 - val_acc: 0.7665\n",
            "Epoch 30/30\n",
            "130/130 [==============================] - 3s 24ms/step - loss: 0.3362 - acc: 0.8939 - val_loss: 0.6506 - val_acc: 0.7607\n"
          ],
          "name": "stdout"
        }
      ]
    },
    {
      "cell_type": "code",
      "metadata": {
        "colab": {
          "base_uri": "https://localhost:8080/",
          "height": 545
        },
        "id": "nRoj4tafZRmt",
        "outputId": "e700e40f-c8ae-4e04-daec-6211667e867c"
      },
      "source": [
        "acc = history.history['acc']\n",
        "val_acc = history.history['val_acc']\n",
        "loss = history.history['loss']\n",
        "val_loss = history.history['val_loss']\n",
        "\n",
        "epochs = range(len(acc))\n",
        "\n",
        "plt.plot(epochs, acc, 'bo', label='Training acc')\n",
        "plt.plot(epochs, val_acc, 'b', label='Validation acc')\n",
        "plt.title('Training and validation accuracy')\n",
        "plt.legend()\n",
        "\n",
        "plt.figure()\n",
        "\n",
        "plt.plot(epochs, loss, 'bo', label='Training loss')\n",
        "plt.plot(epochs, val_loss, 'b', label='Validation loss')\n",
        "plt.title('Training and validation loss')\n",
        "plt.legend()\n",
        "\n",
        "plt.show()"
      ],
      "execution_count": null,
      "outputs": [
        {
          "output_type": "display_data",
          "data": {
            "image/png": "[encoded data removed]",
            "text/plain": [
              "<Figure size 432x288 with 1 Axes>"
            ]
          },
          "metadata": {
            "tags": [],
            "needs_background": "light"
          }
        },
        {
          "output_type": "display_data",
          "data": {
            "image/png": "[encoded data removed]",
            "text/plain": [
              "<Figure size 432x288 with 1 Axes>"
            ]
          },
          "metadata": {
            "tags": [],
            "needs_background": "light"
          }
        }
      ]
    },
    {
      "cell_type": "markdown",
      "metadata": {
        "id": "TKGWMaZoZlHi"
      },
      "source": [
        "##### <font color='green'> b) Feature Extraction with Data Augmentation (Improve Accuracy and Overfitting of Model)"
      ]
    },
    {
      "cell_type": "code",
      "metadata": {
        "id": "vUp2bMEzZqiN"
      },
      "source": [
        "model = models.Sequential()\n",
        "model.add(conv_base)  # Adding a densely connected classifier on top of the convolutional base\n",
        "model.add(layers.Flatten())\n",
        "model.add(layers.Dense(256, activation='relu'))\n",
        "model.add(layers.Dense(5, activation='softmax'))"
      ],
      "execution_count": 4,
      "outputs": []
    },
    {
      "cell_type": "code",
      "metadata": {
        "colab": {
          "base_uri": "https://localhost:8080/"
        },
        "id": "a1nBIB5gaFfa",
        "outputId": "9f920da1-5bef-43aa-b860-61e62809e47e"
      },
      "source": [
        "model.summary()"
      ],
      "execution_count": 5,
      "outputs": [
        {
          "output_type": "stream",
          "text": [
            "Model: \"sequential\"\n",
            "_________________________________________________________________\n",
            "Layer (type)                 Output Shape              Param #   \n",
            "=================================================================\n",
            "vgg19 (Functional)           (None, 4, 4, 512)         20024384  \n",
            "_________________________________________________________________\n",
            "flatten (Flatten)            (None, 8192)              0         \n",
            "_________________________________________________________________\n",
            "dense (Dense)                (None, 256)               2097408   \n",
            "_________________________________________________________________\n",
            "dense_1 (Dense)              (None, 5)                 1285      \n",
            "=================================================================\n",
            "Total params: 22,123,077\n",
            "Trainable params: 22,123,077\n",
            "Non-trainable params: 0\n",
            "_________________________________________________________________\n"
          ],
          "name": "stdout"
        }
      ]
    },
    {
      "cell_type": "markdown",
      "metadata": {
        "id": "zKX08gcSaJxD"
      },
      "source": [
        "Freeze conv_base:\n",
        "\n",
        "Note that in order for these changes to take effect, you must first compile the model. If you ever modify weight trainability after compilation, you should then recompile the model, or these changes will be ignored."
      ]
    },
    {
      "cell_type": "code",
      "metadata": {
        "colab": {
          "base_uri": "https://localhost:8080/"
        },
        "id": "Tsrq27RWaHJg",
        "outputId": "d3e8af34-987f-43d7-c5f0-71386b6dd6c0"
      },
      "source": [
        "print('This is the number of trainable weights before freezing the conv base:', len(model.trainable_weights))"
      ],
      "execution_count": null,
      "outputs": [
        {
          "output_type": "stream",
          "text": [
            "This is the number of trainable weights before freezing the conv base: 36\n"
          ],
          "name": "stdout"
        }
      ]
    },
    {
      "cell_type": "code",
      "metadata": {
        "colab": {
          "base_uri": "https://localhost:8080/"
        },
        "id": "mE3wd8wMaN7x",
        "outputId": "70aa41af-61a8-4e21-e4a7-87432a265c30"
      },
      "source": [
        "conv_base.trainable = False\n",
        "print('This is the number of trainable weights after freezing the conv base:', len(model.trainable_weights))"
      ],
      "execution_count": null,
      "outputs": [
        {
          "output_type": "stream",
          "text": [
            "This is the number of trainable weights after freezing the conv base: 4\n"
          ],
          "name": "stdout"
        }
      ]
    },
    {
      "cell_type": "code",
      "metadata": {
        "colab": {
          "base_uri": "https://localhost:8080/"
        },
        "id": "rAkKb5x3aRZD",
        "outputId": "7d8fa6a9-b26c-403e-8aa7-2a067f8fcaa5"
      },
      "source": [
        "train_datagen = ImageDataGenerator(\n",
        "      rescale=1./255,\n",
        "      rotation_range=40,\n",
        "      width_shift_range=0.2,\n",
        "      height_shift_range=0.2,\n",
        "      shear_range=0.2,\n",
        "      zoom_range=0.2,\n",
        "      horizontal_flip=True,\n",
        "      fill_mode='nearest')\n",
        "\n",
        "# Note that the validation data should not be augmented!\n",
        "test_datagen = ImageDataGenerator(rescale=1./255)\n",
        "\n",
        "train_generator = train_datagen.flow_from_directory(\n",
        "        # This is the target directory\n",
        "        train_dir,\n",
        "        # All images will be resized to 150*150\n",
        "        target_size=(150, 150),\n",
        "        batch_size=20,\n",
        "        # Since we use binary_crossentropy loss, we need binary labels\n",
        "        class_mode='categorical')\n",
        "\n",
        "validation_generator = test_datagen.flow_from_directory(\n",
        "        validation_dir,\n",
        "        target_size=(150, 150),\n",
        "        batch_size=20,\n",
        "        class_mode='categorical')"
      ],
      "execution_count": 11,
      "outputs": [
        {
          "output_type": "stream",
          "text": [
            "Found 2593 images belonging to 5 classes.\n",
            "Found 865 images belonging to 5 classes.\n"
          ],
          "name": "stdout"
        }
      ]
    },
    {
      "cell_type": "code",
      "metadata": {
        "id": "2Q4y9MHOab5O"
      },
      "source": [
        "model.compile(loss='categorical_crossentropy',\n",
        "              optimizer=optimizers.RMSprop(lr=2e-5),\n",
        "              metrics=['acc'])"
      ],
      "execution_count": null,
      "outputs": []
    },
    {
      "cell_type": "code",
      "metadata": {
        "colab": {
          "base_uri": "https://localhost:8080/"
        },
        "id": "wnZAI70Pafh3",
        "outputId": "0acdb646-5616-4723-fe14-f0fdea35419f"
      },
      "source": [
        "history = model.fit(\n",
        "      train_generator,\n",
        "      steps_per_epoch=50,\n",
        "      epochs=30,\n",
        "      validation_data=validation_generator,\n",
        "      validation_steps=25)"
      ],
      "execution_count": null,
      "outputs": [
        {
          "output_type": "stream",
          "text": [
            "Epoch 1/30\n",
            "50/50 [==============================] - 428s 8s/step - loss: 1.5942 - acc: 0.2562 - val_loss: 1.3803 - val_acc: 0.4540\n",
            "Epoch 2/30\n",
            "50/50 [==============================] - 417s 8s/step - loss: 1.3382 - acc: 0.5054 - val_loss: 1.2106 - val_acc: 0.5560\n",
            "Epoch 3/30\n",
            "50/50 [==============================] - 414s 8s/step - loss: 1.2263 - acc: 0.5442 - val_loss: 1.1039 - val_acc: 0.6080\n",
            "Epoch 4/30\n",
            "50/50 [==============================] - 409s 8s/step - loss: 1.1541 - acc: 0.5728 - val_loss: 1.0796 - val_acc: 0.5980\n",
            "Epoch 5/30\n",
            "50/50 [==============================] - 411s 8s/step - loss: 1.0779 - acc: 0.6205 - val_loss: 0.9893 - val_acc: 0.6440\n",
            "Epoch 6/30\n",
            "50/50 [==============================] - 409s 8s/step - loss: 0.9845 - acc: 0.6540 - val_loss: 0.9290 - val_acc: 0.6580\n",
            "Epoch 7/30\n",
            "50/50 [==============================] - 410s 8s/step - loss: 0.9387 - acc: 0.6625 - val_loss: 0.9189 - val_acc: 0.6520\n",
            "Epoch 8/30\n",
            "50/50 [==============================] - 408s 8s/step - loss: 0.9617 - acc: 0.6491 - val_loss: 0.8916 - val_acc: 0.6540\n",
            "Epoch 9/30\n",
            "50/50 [==============================] - 410s 8s/step - loss: 0.9303 - acc: 0.6483 - val_loss: 0.8893 - val_acc: 0.6600\n",
            "Epoch 10/30\n",
            "50/50 [==============================] - 410s 8s/step - loss: 0.9283 - acc: 0.6665 - val_loss: 0.8209 - val_acc: 0.6940\n",
            "Epoch 11/30\n",
            "50/50 [==============================] - 409s 8s/step - loss: 0.8660 - acc: 0.6970 - val_loss: 0.8502 - val_acc: 0.6620\n",
            "Epoch 12/30\n",
            "50/50 [==============================] - 409s 8s/step - loss: 0.8499 - acc: 0.6871 - val_loss: 0.8080 - val_acc: 0.7100\n",
            "Epoch 13/30\n",
            "50/50 [==============================] - 410s 8s/step - loss: 0.8631 - acc: 0.6905 - val_loss: 0.8133 - val_acc: 0.6900\n",
            "Epoch 14/30\n",
            "50/50 [==============================] - 408s 8s/step - loss: 0.8487 - acc: 0.6886 - val_loss: 0.7777 - val_acc: 0.6940\n",
            "Epoch 15/30\n",
            "50/50 [==============================] - 410s 8s/step - loss: 0.8478 - acc: 0.6820 - val_loss: 0.7998 - val_acc: 0.6840\n",
            "Epoch 16/30\n",
            "50/50 [==============================] - 411s 8s/step - loss: 0.8603 - acc: 0.6748 - val_loss: 0.7685 - val_acc: 0.7220\n",
            "Epoch 17/30\n",
            "50/50 [==============================] - 409s 8s/step - loss: 0.7477 - acc: 0.7350 - val_loss: 0.7266 - val_acc: 0.7260\n",
            "Epoch 18/30\n",
            "50/50 [==============================] - 411s 8s/step - loss: 0.7854 - acc: 0.7212 - val_loss: 0.7448 - val_acc: 0.7180\n",
            "Epoch 19/30\n",
            "50/50 [==============================] - 411s 8s/step - loss: 0.8175 - acc: 0.7091 - val_loss: 0.7487 - val_acc: 0.7300\n",
            "Epoch 20/30\n",
            "50/50 [==============================] - 409s 8s/step - loss: 0.7736 - acc: 0.7172 - val_loss: 0.7152 - val_acc: 0.7220\n",
            "Epoch 21/30\n",
            "50/50 [==============================] - 411s 8s/step - loss: 0.7814 - acc: 0.7401 - val_loss: 0.7066 - val_acc: 0.7360\n",
            "Epoch 22/30\n",
            "50/50 [==============================] - 411s 8s/step - loss: 0.7340 - acc: 0.7323 - val_loss: 0.7148 - val_acc: 0.7340\n",
            "Epoch 23/30\n",
            "50/50 [==============================] - 412s 8s/step - loss: 0.7426 - acc: 0.7247 - val_loss: 0.7177 - val_acc: 0.7260\n",
            "Epoch 24/30\n",
            "50/50 [==============================] - 412s 8s/step - loss: 0.7384 - acc: 0.7215 - val_loss: 0.7028 - val_acc: 0.7240\n",
            "Epoch 25/30\n",
            "50/50 [==============================] - 410s 8s/step - loss: 0.7253 - acc: 0.7410 - val_loss: 0.6924 - val_acc: 0.7380\n",
            "Epoch 26/30\n",
            "50/50 [==============================] - 411s 8s/step - loss: 0.7315 - acc: 0.7444 - val_loss: 0.7091 - val_acc: 0.7200\n",
            "Epoch 27/30\n",
            "50/50 [==============================] - 412s 8s/step - loss: 0.7022 - acc: 0.7683 - val_loss: 0.7042 - val_acc: 0.7160\n",
            "Epoch 28/30\n",
            "50/50 [==============================] - 412s 8s/step - loss: 0.7025 - acc: 0.7706 - val_loss: 0.7093 - val_acc: 0.7360\n",
            "Epoch 29/30\n",
            "50/50 [==============================] - 412s 8s/step - loss: 0.7052 - acc: 0.7488 - val_loss: 0.6761 - val_acc: 0.7520\n",
            "Epoch 30/30\n",
            "50/50 [==============================] - 409s 8s/step - loss: 0.6672 - acc: 0.7737 - val_loss: 0.6956 - val_acc: 0.7260\n"
          ],
          "name": "stdout"
        }
      ]
    },
    {
      "cell_type": "code",
      "metadata": {
        "id": "2pmezuhdaiie",
        "colab": {
          "base_uri": "https://localhost:8080/",
          "height": 545
        },
        "outputId": "cc3faade-38ee-4d40-f1b6-ee65f65603ee"
      },
      "source": [
        " acc = history.history['acc']\n",
        "val_acc = history.history['val_acc']\n",
        "loss = history.history['loss']\n",
        "val_loss = history.history['val_loss']\n",
        "\n",
        "epochs = range(len(acc))\n",
        "\n",
        "plt.plot(epochs, acc, 'bo', label='Training acc')\n",
        "plt.plot(epochs, val_acc, 'b', label='Validation acc')\n",
        "plt.title('Training and validation accuracy')\n",
        "plt.legend()\n",
        "\n",
        "plt.figure()\n",
        "\n",
        "plt.plot(epochs, loss, 'bo', label='Training loss')\n",
        "plt.plot(epochs, val_loss, 'b', label='Validation loss')\n",
        "plt.title('Training and validation loss')\n",
        "plt.legend()\n",
        "\n",
        "plt.show()"
      ],
      "execution_count": null,
      "outputs": [
        {
          "output_type": "display_data",
          "data": {
            "image/png": "[encoded data removed]",
            "text/plain": [
              "<Figure size 432x288 with 1 Axes>"
            ]
          },
          "metadata": {
            "tags": [],
            "needs_background": "light"
          }
        },
        {
          "output_type": "display_data",
          "data": {
            "image/png": "[encoded data removed]",
            "text/plain": [
              "<Figure size 432x288 with 1 Axes>"
            ]
          },
          "metadata": {
            "tags": [],
            "needs_background": "light"
          }
        }
      ]
    },
    {
      "cell_type": "markdown",
      "metadata": {
        "id": "dvk4W7fnaole"
      },
      "source": [
        "##### <font color='green'> c) Fine Tuning "
      ]
    },
    {
      "cell_type": "markdown",
      "metadata": {
        "id": "XxiLphgkaw1a"
      },
      "source": [
        " <font color='green'>\n",
        "**Steps for fine-tuning a PreTrained network** are as follows:(First 3 steps already completed above)\n",
        "\n",
        "1 Add your custom network on top of an already-trained base network.\n",
        "\n",
        "2 Freeze the base network.\n",
        "\n",
        "3 Train the part you added.\n",
        "\n",
        "4 Unfreeze some layers in the base network.\n",
        "\n",
        "5 Jointly train both these layers and the part you added."
      ]
    },
    {
      "cell_type": "code",
      "metadata": {
        "id": "GwZ8U1ziawXt",
        "colab": {
          "base_uri": "https://localhost:8080/"
        },
        "outputId": "efdaf7c5-9174-42af-c2bf-2c835cbdc425"
      },
      "source": [
        "# We will Fine Tune / un-freeze the last four convolutional layers, which means all layers up to block4_pool should be frozen.\n",
        "# and the layers block5_conv1, block5_conv2, block5_conv3, block5_conv4 should be trainable\n",
        "\n",
        "conv_base.summary()"
      ],
      "execution_count": 6,
      "outputs": [
        {
          "output_type": "stream",
          "text": [
            "Model: \"vgg19\"\n",
            "_________________________________________________________________\n",
            "Layer (type)                 Output Shape              Param #   \n",
            "=================================================================\n",
            "input_1 (InputLayer)         [(None, 150, 150, 3)]     0         \n",
            "_________________________________________________________________\n",
            "block1_conv1 (Conv2D)        (None, 150, 150, 64)      1792      \n",
            "_________________________________________________________________\n",
            "block1_conv2 (Conv2D)        (None, 150, 150, 64)      36928     \n",
            "_________________________________________________________________\n",
            "block1_pool (MaxPooling2D)   (None, 75, 75, 64)        0         \n",
            "_________________________________________________________________\n",
            "block2_conv1 (Conv2D)        (None, 75, 75, 128)       73856     \n",
            "_________________________________________________________________\n",
            "block2_conv2 (Conv2D)        (None, 75, 75, 128)       147584    \n",
            "_________________________________________________________________\n",
            "block2_pool (MaxPooling2D)   (None, 37, 37, 128)       0         \n",
            "_________________________________________________________________\n",
            "block3_conv1 (Conv2D)        (None, 37, 37, 256)       295168    \n",
            "_________________________________________________________________\n",
            "block3_conv2 (Conv2D)        (None, 37, 37, 256)       590080    \n",
            "_________________________________________________________________\n",
            "block3_conv3 (Conv2D)        (None, 37, 37, 256)       590080    \n",
            "_________________________________________________________________\n",
            "block3_conv4 (Conv2D)        (None, 37, 37, 256)       590080    \n",
            "_________________________________________________________________\n",
            "block3_pool (MaxPooling2D)   (None, 18, 18, 256)       0         \n",
            "_________________________________________________________________\n",
            "block4_conv1 (Conv2D)        (None, 18, 18, 512)       1180160   \n",
            "_________________________________________________________________\n",
            "block4_conv2 (Conv2D)        (None, 18, 18, 512)       2359808   \n",
            "_________________________________________________________________\n",
            "block4_conv3 (Conv2D)        (None, 18, 18, 512)       2359808   \n",
            "_________________________________________________________________\n",
            "block4_conv4 (Conv2D)        (None, 18, 18, 512)       2359808   \n",
            "_________________________________________________________________\n",
            "block4_pool (MaxPooling2D)   (None, 9, 9, 512)         0         \n",
            "_________________________________________________________________\n",
            "block5_conv1 (Conv2D)        (None, 9, 9, 512)         2359808   \n",
            "_________________________________________________________________\n",
            "block5_conv2 (Conv2D)        (None, 9, 9, 512)         2359808   \n",
            "_________________________________________________________________\n",
            "block5_conv3 (Conv2D)        (None, 9, 9, 512)         2359808   \n",
            "_________________________________________________________________\n",
            "block5_conv4 (Conv2D)        (None, 9, 9, 512)         2359808   \n",
            "_________________________________________________________________\n",
            "block5_pool (MaxPooling2D)   (None, 4, 4, 512)         0         \n",
            "=================================================================\n",
            "Total params: 20,024,384\n",
            "Trainable params: 20,024,384\n",
            "Non-trainable params: 0\n",
            "_________________________________________________________________\n"
          ],
          "name": "stdout"
        }
      ]
    },
    {
      "cell_type": "code",
      "metadata": {
        "id": "BHpj95Yua2KK"
      },
      "source": [
        "conv_base.trainable = True\n",
        "set_trainable = False\n",
        "\n",
        "for layer in conv_base.layers:\n",
        "  if layer.name == 'block5_conv1':\n",
        "    set_trainable = True\n",
        "  if set_trainable:\n",
        "    layer.trainable = True\n",
        "  else:\n",
        "    layer.trainable = False"
      ],
      "execution_count": 7,
      "outputs": []
    },
    {
      "cell_type": "code",
      "metadata": {
        "id": "kPFmJdZXTklT",
        "colab": {
          "base_uri": "https://localhost:8080/"
        },
        "outputId": "edca8bbb-3a6c-454b-915a-54de290516ca"
      },
      "source": [
        "for layer in conv_base.layers:\n",
        "  print(layer.name,layer.trainable)"
      ],
      "execution_count": 8,
      "outputs": [
        {
          "output_type": "stream",
          "text": [
            "input_1 False\n",
            "block1_conv1 False\n",
            "block1_conv2 False\n",
            "block1_pool False\n",
            "block2_conv1 False\n",
            "block2_conv2 False\n",
            "block2_pool False\n",
            "block3_conv1 False\n",
            "block3_conv2 False\n",
            "block3_conv3 False\n",
            "block3_conv4 False\n",
            "block3_pool False\n",
            "block4_conv1 False\n",
            "block4_conv2 False\n",
            "block4_conv3 False\n",
            "block4_conv4 False\n",
            "block4_pool False\n",
            "block5_conv1 True\n",
            "block5_conv2 True\n",
            "block5_conv3 True\n",
            "block5_conv4 True\n",
            "block5_pool True\n"
          ],
          "name": "stdout"
        }
      ]
    },
    {
      "cell_type": "code",
      "metadata": {
        "id": "bmg4k20Za4MC"
      },
      "source": [
        "model.compile(loss='categorical_crossentropy',\n",
        "              optimizer=optimizers.RMSprop(lr=1e-5),\n",
        "              metrics=['acc'])"
      ],
      "execution_count": 9,
      "outputs": []
    },
    {
      "cell_type": "code",
      "metadata": {
        "id": "2raFDeBwa6XK",
        "colab": {
          "base_uri": "https://localhost:8080/"
        },
        "outputId": "b87cff3a-b8d7-4046-ddd6-5e94fd2b15d3"
      },
      "source": [
        "history = model.fit(\n",
        "      train_generator,\n",
        "      steps_per_epoch=50,\n",
        "      epochs=50,\n",
        "      validation_data=validation_generator,\n",
        "      validation_steps=25)"
      ],
      "execution_count": 13,
      "outputs": [
        {
          "output_type": "stream",
          "text": [
            "Epoch 1/50\n",
            "50/50 [==============================] - 721s 15s/step - loss: 1.4732 - acc: 0.3736 - val_loss: 1.2420 - val_acc: 0.5600\n",
            "Epoch 2/50\n",
            "50/50 [==============================] - 388s 8s/step - loss: 1.1806 - acc: 0.5560 - val_loss: 0.9790 - val_acc: 0.6540\n",
            "Epoch 3/50\n",
            "50/50 [==============================] - 353s 7s/step - loss: 0.9801 - acc: 0.6250 - val_loss: 0.7986 - val_acc: 0.7020\n",
            "Epoch 4/50\n",
            "50/50 [==============================] - 354s 7s/step - loss: 0.7902 - acc: 0.6940 - val_loss: 0.7239 - val_acc: 0.7220\n",
            "Epoch 5/50\n",
            "50/50 [==============================] - 351s 7s/step - loss: 0.7456 - acc: 0.7321 - val_loss: 0.6733 - val_acc: 0.7380\n",
            "Epoch 6/50\n",
            "50/50 [==============================] - 351s 7s/step - loss: 0.6806 - acc: 0.7440 - val_loss: 0.6339 - val_acc: 0.7460\n",
            "Epoch 7/50\n",
            "50/50 [==============================] - 348s 7s/step - loss: 0.6507 - acc: 0.7503 - val_loss: 0.6507 - val_acc: 0.7400\n",
            "Epoch 8/50\n",
            "50/50 [==============================] - 351s 7s/step - loss: 0.6259 - acc: 0.7660 - val_loss: 0.5958 - val_acc: 0.7700\n",
            "Epoch 9/50\n",
            "50/50 [==============================] - 349s 7s/step - loss: 0.5679 - acc: 0.7925 - val_loss: 0.6076 - val_acc: 0.7720\n",
            "Epoch 10/50\n",
            "50/50 [==============================] - 350s 7s/step - loss: 0.5932 - acc: 0.7950 - val_loss: 0.6061 - val_acc: 0.7740\n",
            "Epoch 11/50\n",
            "50/50 [==============================] - 350s 7s/step - loss: 0.5543 - acc: 0.8050 - val_loss: 0.5953 - val_acc: 0.7740\n",
            "Epoch 12/50\n",
            "50/50 [==============================] - 349s 7s/step - loss: 0.5291 - acc: 0.7986 - val_loss: 0.6370 - val_acc: 0.7560\n",
            "Epoch 13/50\n",
            "50/50 [==============================] - 351s 7s/step - loss: 0.5223 - acc: 0.8080 - val_loss: 0.5951 - val_acc: 0.7780\n",
            "Epoch 14/50\n",
            "50/50 [==============================] - 349s 7s/step - loss: 0.4617 - acc: 0.8278 - val_loss: 0.5466 - val_acc: 0.7940\n",
            "Epoch 15/50\n",
            "50/50 [==============================] - 350s 7s/step - loss: 0.4882 - acc: 0.8240 - val_loss: 0.5640 - val_acc: 0.7920\n",
            "Epoch 16/50\n",
            "50/50 [==============================] - 350s 7s/step - loss: 0.4750 - acc: 0.8510 - val_loss: 0.5405 - val_acc: 0.7980\n",
            "Epoch 17/50\n",
            "50/50 [==============================] - 348s 7s/step - loss: 0.4467 - acc: 0.8328 - val_loss: 0.5412 - val_acc: 0.8000\n",
            "Epoch 18/50\n",
            "50/50 [==============================] - 351s 7s/step - loss: 0.4525 - acc: 0.8320 - val_loss: 0.5128 - val_acc: 0.8120\n",
            "Epoch 19/50\n",
            "50/50 [==============================] - 348s 7s/step - loss: 0.4088 - acc: 0.8429 - val_loss: 0.5360 - val_acc: 0.8200\n",
            "Epoch 20/50\n",
            "50/50 [==============================] - 350s 7s/step - loss: 0.4265 - acc: 0.8540 - val_loss: 0.4961 - val_acc: 0.8080\n",
            "Epoch 21/50\n",
            "50/50 [==============================] - 350s 7s/step - loss: 0.4143 - acc: 0.8520 - val_loss: 0.5283 - val_acc: 0.8140\n",
            "Epoch 22/50\n",
            "50/50 [==============================] - 352s 7s/step - loss: 0.3819 - acc: 0.8700 - val_loss: 0.5650 - val_acc: 0.7960\n",
            "Epoch 23/50\n",
            "50/50 [==============================] - 351s 7s/step - loss: 0.4090 - acc: 0.8479 - val_loss: 0.5361 - val_acc: 0.7860\n",
            "Epoch 24/50\n",
            "50/50 [==============================] - 354s 7s/step - loss: 0.3564 - acc: 0.8730 - val_loss: 0.5273 - val_acc: 0.8120\n",
            "Epoch 25/50\n",
            "50/50 [==============================] - 354s 7s/step - loss: 0.3679 - acc: 0.8630 - val_loss: 0.5133 - val_acc: 0.8240\n",
            "Epoch 26/50\n",
            "50/50 [==============================] - 354s 7s/step - loss: 0.3885 - acc: 0.8470 - val_loss: 0.5958 - val_acc: 0.8120\n",
            "Epoch 27/50\n",
            "50/50 [==============================] - 354s 7s/step - loss: 0.3451 - acc: 0.8770 - val_loss: 0.6251 - val_acc: 0.8040\n",
            "Epoch 28/50\n",
            "50/50 [==============================] - 354s 7s/step - loss: 0.3494 - acc: 0.8730 - val_loss: 0.5716 - val_acc: 0.8120\n",
            "Epoch 29/50\n",
            "50/50 [==============================] - 356s 7s/step - loss: 0.3584 - acc: 0.8770 - val_loss: 0.4806 - val_acc: 0.8260\n",
            "Epoch 30/50\n",
            "50/50 [==============================] - 354s 7s/step - loss: 0.3372 - acc: 0.8781 - val_loss: 0.5384 - val_acc: 0.8320\n",
            "Epoch 31/50\n",
            "50/50 [==============================] - 353s 7s/step - loss: 0.3697 - acc: 0.8701 - val_loss: 0.5146 - val_acc: 0.8160\n",
            "Epoch 32/50\n",
            "50/50 [==============================] - 352s 7s/step - loss: 0.2615 - acc: 0.9030 - val_loss: 0.5796 - val_acc: 0.8220\n",
            "Epoch 33/50\n",
            "50/50 [==============================] - 350s 7s/step - loss: 0.3020 - acc: 0.8963 - val_loss: 0.5115 - val_acc: 0.8260\n",
            "Epoch 34/50\n",
            "50/50 [==============================] - 353s 7s/step - loss: 0.3008 - acc: 0.8830 - val_loss: 0.5875 - val_acc: 0.8220\n",
            "Epoch 35/50\n",
            "50/50 [==============================] - 350s 7s/step - loss: 0.3344 - acc: 0.8802 - val_loss: 0.5168 - val_acc: 0.8260\n",
            "Epoch 36/50\n",
            "50/50 [==============================] - 352s 7s/step - loss: 0.3144 - acc: 0.8890 - val_loss: 0.5998 - val_acc: 0.8180\n",
            "Epoch 37/50\n",
            "50/50 [==============================] - 351s 7s/step - loss: 0.2963 - acc: 0.8862 - val_loss: 0.5910 - val_acc: 0.8100\n",
            "Epoch 38/50\n",
            "50/50 [==============================] - 352s 7s/step - loss: 0.3098 - acc: 0.8860 - val_loss: 0.4659 - val_acc: 0.8280\n",
            "Epoch 39/50\n",
            "50/50 [==============================] - 352s 7s/step - loss: 0.2517 - acc: 0.9060 - val_loss: 0.6195 - val_acc: 0.8200\n",
            "Epoch 40/50\n",
            "50/50 [==============================] - 350s 7s/step - loss: 0.2826 - acc: 0.9084 - val_loss: 0.4868 - val_acc: 0.8380\n",
            "Epoch 41/50\n",
            "50/50 [==============================] - 350s 7s/step - loss: 0.2321 - acc: 0.9194 - val_loss: 0.5615 - val_acc: 0.8200\n",
            "Epoch 42/50\n",
            "50/50 [==============================] - 354s 7s/step - loss: 0.2718 - acc: 0.8970 - val_loss: 0.6021 - val_acc: 0.8260\n",
            "Epoch 43/50\n",
            "50/50 [==============================] - 354s 7s/step - loss: 0.2363 - acc: 0.9170 - val_loss: 0.4785 - val_acc: 0.8540\n",
            "Epoch 44/50\n",
            "50/50 [==============================] - 353s 7s/step - loss: 0.2536 - acc: 0.9053 - val_loss: 0.5395 - val_acc: 0.8260\n",
            "Epoch 45/50\n",
            "50/50 [==============================] - 355s 7s/step - loss: 0.2578 - acc: 0.9020 - val_loss: 0.6032 - val_acc: 0.8180\n",
            "Epoch 46/50\n",
            "50/50 [==============================] - 354s 7s/step - loss: 0.2236 - acc: 0.9230 - val_loss: 0.5899 - val_acc: 0.8140\n",
            "Epoch 47/50\n",
            "50/50 [==============================] - 352s 7s/step - loss: 0.2011 - acc: 0.9305 - val_loss: 0.4955 - val_acc: 0.8520\n",
            "Epoch 48/50\n",
            "50/50 [==============================] - 353s 7s/step - loss: 0.2659 - acc: 0.9094 - val_loss: 0.5304 - val_acc: 0.8240\n",
            "Epoch 49/50\n",
            "50/50 [==============================] - 354s 7s/step - loss: 0.2332 - acc: 0.9240 - val_loss: 0.6380 - val_acc: 0.8200\n",
            "Epoch 50/50\n",
            "50/50 [==============================] - 352s 7s/step - loss: 0.2197 - acc: 0.9235 - val_loss: 0.5180 - val_acc: 0.8380\n"
          ],
          "name": "stdout"
        }
      ]
    },
    {
      "cell_type": "code",
      "metadata": {
        "id": "oOWvacuOa_nW",
        "colab": {
          "base_uri": "https://localhost:8080/",
          "height": 545
        },
        "outputId": "80b4af85-05b1-432e-b127-92e14599b2cf"
      },
      "source": [
        "acc = history.history['acc']\n",
        "val_acc = history.history['val_acc']\n",
        "loss = history.history['loss']\n",
        "val_loss = history.history['val_loss']\n",
        "\n",
        "epochs = range(len(acc))\n",
        "\n",
        "plt.plot(epochs, acc, 'bo', label='Training acc')\n",
        "plt.plot(epochs, val_acc, 'b', label='Validation acc')\n",
        "plt.title('Training and validation accuracy')\n",
        "plt.legend()\n",
        "\n",
        "plt.figure()\n",
        "\n",
        "plt.plot(epochs, loss, 'bo', label='Training loss')\n",
        "plt.plot(epochs, val_loss, 'b', label='Validation loss')\n",
        "plt.title('Training and validation loss')\n",
        "plt.legend()\n",
        "\n",
        "plt.show()"
      ],
      "execution_count": 14,
      "outputs": [
        {
          "output_type": "display_data",
          "data": {
            "image/png": "[encoded data removed]",
            "text/plain": [
              "<Figure size 432x288 with 1 Axes>"
            ]
          },
          "metadata": {
            "tags": [],
            "needs_background": "light"
          }
        },
        {
          "output_type": "display_data",
          "data": {
            "image/png": "[encoded data removed]",
            "text/plain": [
              "<Figure size 432x288 with 1 Axes>"
            ]
          },
          "metadata": {
            "tags": [],
            "needs_background": "light"
          }
        }
      ]
    },
    {
      "cell_type": "markdown",
      "metadata": {
        "id": "uYJ6uiSIVbNa"
      },
      "source": [
        ">`Topic`\n",
        "## <font color='white'> Test Model on Test Data"
      ]
    },
    {
      "cell_type": "code",
      "metadata": {
        "id": "LquJw8TxbB-y",
        "colab": {
          "base_uri": "https://localhost:8080/"
        },
        "outputId": "544a9835-ded6-459d-bbd1-7a43ae07a64c"
      },
      "source": [
        "test_generator = test_datagen.flow_from_directory(test_dir,\n",
        "                                                  target_size=(150, 150),\n",
        "                                                  batch_size=20,\n",
        "                                                  class_mode='categorical')"
      ],
      "execution_count": 15,
      "outputs": [
        {
          "output_type": "stream",
          "text": [
            "Found 865 images belonging to 5 classes.\n"
          ],
          "name": "stdout"
        }
      ]
    },
    {
      "cell_type": "code",
      "metadata": {
        "id": "UzUQQ04fVpR2",
        "colab": {
          "base_uri": "https://localhost:8080/"
        },
        "outputId": "bfb1aedf-2ca7-41b5-da24-861ac0ed82ce"
      },
      "source": [
        "test_loss, test_acc = model.evaluate(test_generator, steps=50)"
      ],
      "execution_count": 16,
      "outputs": [
        {
          "output_type": "stream",
          "text": [
            "44/50 [=========================>....] - ETA: 50s - loss: 0.4637 - acc: 0.8497 WARNING:tensorflow:Your input ran out of data; interrupting training. Make sure that your dataset or generator can generate at least `steps_per_epoch * epochs` batches (in this case, 50 batches). You may need to use the repeat() function when building your dataset.\n",
            "50/50 [==============================] - 366s 7s/step - loss: 0.4637 - acc: 0.8497\n"
          ],
          "name": "stdout"
        }
      ]
    },
    {
      "cell_type": "code",
      "metadata": {
        "id": "LEJY5Rd3VtEB",
        "colab": {
          "base_uri": "https://localhost:8080/"
        },
        "outputId": "b5a767a4-aa7c-4eee-b127-120239fb0119"
      },
      "source": [
        "print('test acc:', round(test_acc*100,2))"
      ],
      "execution_count": 17,
      "outputs": [
        {
          "output_type": "stream",
          "text": [
            "test acc: 84.97\n"
          ],
          "name": "stdout"
        }
      ]
    },
    {
      "cell_type": "code",
      "metadata": {
        "id": "4jq-zjWRV7SU"
      },
      "source": [
        ""
      ],
      "execution_count": null,
      "outputs": []
    }
  ]
}